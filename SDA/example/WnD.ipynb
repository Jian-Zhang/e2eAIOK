{
 "cells": [
  {
   "cell_type": "code",
   "execution_count": 2,
   "metadata": {},
   "outputs": [],
   "source": [
    "import argparse\n",
    "import sys\n",
    "sys.path.append(\"..\")\n",
    "\n",
    "from SDA.SDA import SDA"
   ]
  },
  {
   "cell_type": "code",
   "execution_count": 2,
   "metadata": {},
   "outputs": [],
   "source": [
    "def parse_args(args):\n",
    "    parser = argparse.ArgumentParser()\n",
    "    parser.add_argument('--model', type=str, default='DLRM', help='Define model')\n",
    "    parser.add_argument('--dataset_meta_path', type=str, required=True, help='Dataset metadata file')\n",
    "    parser.add_argument('--train_path', type=str, help='Train dataset path')\n",
    "    parser.add_argument('--eval_path', type=str, help='Evaluation dataset path')\n",
    "    return parser.parse_known_args(args)"
   ]
  },
  {
   "cell_type": "code",
   "execution_count": 7,
   "metadata": {},
   "outputs": [],
   "source": [
    "args = [\"--train_path\", \"'/mnt/sdd/outbrain2/tfrecords/train/part*'\", \n",
    "        \"--eval_path\", \"'/mnt/sdd/outbrain2/tfrecords/eval/part*'\",\n",
    "        \"--dataset_meta_path\", \"/outbrain2/tfrecords\", \n",
    "        \"--model\", \"WnD\",\n",
    "        \"--python_executable\", \"/root/sw/miniconda3/envs/wd2/bin/python\", \n",
    "        \"--ppn\", \"2\", \n",
    "        \"--ccl_worker_num\", \"2\", \n",
    "        \"--metric\", \"MAP\", \n",
    "        \"--num_epochs\", \"1\",\n",
    "        \"--deep_dropout\", \"0.1\"]\n",
    "sda_args, model_args = parse_args(args)"
   ]
  },
  {
   "cell_type": "code",
   "execution_count": 8,
   "metadata": {},
   "outputs": [
    {
     "name": "stdout",
     "output_type": "stream",
     "text": [
      "SDA config file generated at sda.yaml\n",
      "training launch command: time mpirun -genv OMP_NUM_THREADS=16 -map-by socket -n 2 -ppn 2 -hosts localhost -print-rank-map -genv I_MPI_PIN_DOMAIN=socket -genv OMP_PROC_BIND=true -genv KMP_BLOCKTIME=1 -genv KMP_AFFINITY=granularity=fine,compact,1,0 /root/sw/miniconda3/envs/wd2/bin/python WnD/sigopt_runner.py --dataset_format TFRecords --train_data_pattern '/mnt/sdd/outbrain2/tfrecords/train/part*' --eval_data_pattern '/mnt/sdd/outbrain2/tfrecords/eval/part*' --transformed_metadata_path /outbrain2/tfrecords --global_batch_size 10240 --eval_batch_size 10240 --num_epochs 1 --metric MAP --metric_threshold 0 --prebatch_size 4096 --deep_dropout 0.1 \n"
     ]
    }
   ],
   "source": [
    "sda = SDA(sda_args.model, sda_args.dataset_meta_path, sda_args.train_path, sda_args.eval_path, model_args)\n",
    "sda.launch()"
   ]
  },
  {
   "cell_type": "code",
   "execution_count": null,
   "metadata": {},
   "outputs": [],
   "source": []
  }
 ],
 "metadata": {
  "kernelspec": {
   "display_name": "Python 3",
   "language": "python",
   "name": "python3"
  },
  "language_info": {
   "codemirror_mode": {
    "name": "ipython",
    "version": 3
   },
   "file_extension": ".py",
   "mimetype": "text/x-python",
   "name": "python",
   "nbconvert_exporter": "python",
   "pygments_lexer": "ipython3",
   "version": "3.7.0"
  }
 },
 "nbformat": 4,
 "nbformat_minor": 5
}