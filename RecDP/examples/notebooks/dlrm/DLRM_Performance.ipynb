{
 "cells": [
  {
   "cell_type": "code",
   "execution_count": 5,
   "metadata": {},
   "outputs": [],
   "source": [
    "spark.stop()"
   ]
  },
  {
   "cell_type": "markdown",
   "metadata": {},
   "source": [
    "## DLRM Categorify"
   ]
  },
  {
   "cell_type": "code",
   "execution_count": 1,
   "metadata": {},
   "outputs": [
    {
     "name": "stdout",
     "output_type": "stream",
     "text": [
      "/mnt/nvme2/chendi/BlueWhale/frameworks.bigdata.bluewhale/RecDP\n"
     ]
    }
   ],
   "source": [
    "###### Start spark job ######\n",
    "import init\n",
    "\n",
    "from pyrecdp.data_processor import *\n",
    "from pyrecdp.utils import *\n",
    "\n",
    "import logging\n",
    "from timeit import default_timer as timer\n",
    "import os\n",
    "from pyspark import *\n",
    "from pyspark.sql import *\n",
    "from pyspark.sql.functions import *\n",
    "from pyspark.sql.types import *\n",
    "import numpy as np\n",
    "import pandas as pd\n",
    "\n",
    "# Define Schema\n",
    "LABEL_COL = 0\n",
    "INT_COLS = list(range(1, 14))\n",
    "CAT_COLS = list(range(14, 40))\n",
    "label_fields = [StructField('_c%d' % LABEL_COL, IntegerType())]\n",
    "int_fields = [StructField('_c%d' % i, IntegerType()) for i in INT_COLS]\n",
    "str_fields = [StructField('_c%d' % i, StringType()) for i in CAT_COLS]\n",
    "schema = StructType(label_fields + int_fields + str_fields)\n",
    "\n",
    "to_be_categorified = [23, 35, 14, 33]\n",
    "\n",
    "def categorifyAllFeatures(df, proc, output_name=\"categorified\", gen_dict=False):\n",
    "    dict_dfs = []\n",
    "    #to_categorify_cols = ['_c%d' % i for i in CAT_COLS]\n",
    "    to_categorify_cols = ['_c%d' % i for i in to_be_categorified]\n",
    "    if gen_dict:\n",
    "        # only call below function when target dicts were not pre-prepared        \n",
    "        op_gen_dict = GenerateDictionary(to_categorify_cols, isParquet=False)\n",
    "        proc.reset_ops([op_gen_dict])\n",
    "        t1 = timer()\n",
    "        dict_dfs = proc.generate_dicts(df)\n",
    "        t2 = timer()\n",
    "        print(\"Generate Dictionary took %.3f\" % (t2 - t1))\n",
    "    else:\n",
    "        # or we can simply load from pre-gened\n",
    "        dict_dfs = [{'col_name': name, 'dict': proc.spark.read.parquet(\n",
    "            \"%s/%s/%s/%s\" % (proc.path_prefix, proc.current_path, proc.dicts_path, name))} for name in to_categorify_cols]    \n",
    "\n",
    "    # start to do categorify\n",
    "    op_categorify = Categorify(to_categorify_cols, dict_dfs=dict_dfs)\n",
    "    op_fillna_for_categorified = FillNA(to_categorify_cols, 0)\n",
    "    proc.append_ops([op_categorify, op_fillna_for_categorified])\n",
    "    t1 = timer()\n",
    "    df = proc.transform(df)\n",
    "    t2 = timer()\n",
    "    print(\"Categorify took %.3f\" % (t2 - t1))\n",
    "    \n",
    "    return df"
   ]
  },
  {
   "cell_type": "code",
   "execution_count": null,
   "metadata": {
    "scrolled": false
   },
   "outputs": [
    {
     "name": "stdout",
     "output_type": "stream",
     "text": [
      "per core memory size is 5.000 GB and shuffle_disk maximum capacity is 1200.000 GB\n",
      "categorify threshold is 50.000 M rows, flush_threshold is 960.000 GB\n",
      "('_c23', DataFrame[dict_col: string, dict_col_id: int], 130229466)\n",
      "('_c35', DataFrame[dict_col: string, dict_col_id: int], 187188509)\n",
      "('_c14', DataFrame[dict_col: string, dict_col_id: int], 227605431)\n",
      "('_c33', DataFrame[dict_col: string, dict_col_id: int], 292775613)\n",
      "etstimated_to_shuffle_size is 725.014 GB, will do shj\n",
      "etstimated_to_shuffle_size is 700.576 GB, will do shj and spill to disk\n",
      "etstimated_to_shuffle_size is 676.137 GB, will do shj\n",
      "etstimated_to_shuffle_size is 651.698 GB, will do shj and spill to disk\n"
     ]
    }
   ],
   "source": [
    "path_prefix = \"hdfs://\"\n",
    "current_path = \"/dlrm/\"\n",
    "csv_folder = \"/dlrm/csv_raw_data\"\n",
    "file = \"/dlrm/raw_data/day_0\"\n",
    "#path = os.path.join(path_prefix, file)\n",
    "\n",
    "\n",
    "##### 1. Start spark and initialize data processor #####\n",
    "t0 = timer()\n",
    "spark = SparkSession\\\n",
    "    .builder\\\n",
    "    .master('yarn')\\\n",
    "    .appName(\"DLRM\")\\\n",
    "    .config(\"spark.executor.memory\", \"20g\")\\\n",
    "    .config(\"spark.executor.memoryOverhead\", \"3g\")\\\n",
    "    .getOrCreate()\n",
    "\n",
    "files = [\"day_%d\" % i for i in range(0, 24)]\n",
    "file_names = [os.path.join(path_prefix, csv_folder, filename) for filename in files]\n",
    "\n",
    "proc = DataProcessor(spark, path_prefix, current_path=current_path, shuffle_disk_capacity=\"1200GB\")\n",
    "#df = spark.read.schema(schema).option('sep', '\\t').csv(file_names)\n",
    "df = spark.read.parquet(\"/dlrm/categorified_stage1\")\n",
    "df = categorifyAllFeatures(df, proc, output_name=\"dlrm_categorified\", gen_dict=False)"
   ]
  },
  {
   "cell_type": "markdown",
   "metadata": {},
   "source": [
    "* per core memory size is 5.000 GB and shuffle_disk maximum capacity is 1200.000 GB\n",
    "* Generate Dictionary took 2373.706\n",
    "* categorify threshold is 134.218 M rows, flush_threshold is 960.000 GB, etstimated_to_shuffle_size is 1287.104 GB\n",
    "* ('_c19', DataFrame[dict_col: string, dict_col_id: int], 3)\n",
    "* ('_c30', DataFrame[dict_col: string, dict_col_id: int], 3)\n",
    "* ('_c26', DataFrame[dict_col: string, dict_col_id: int], 10)\n",
    "* ('_c32', DataFrame[dict_col: string, dict_col_id: int], 14)\n",
    "* ('_c39', DataFrame[dict_col: string, dict_col_id: int], 36)\n",
    "* ('_c22', DataFrame[dict_col: string, dict_col_id: int], 63)\n",
    "* ('_c38', DataFrame[dict_col: string, dict_col_id: int], 108)\n",
    "* ('_c29', DataFrame[dict_col: string, dict_col_id: int], 154)\n",
    "* ('_c31', DataFrame[dict_col: string, dict_col_id: int], 976)\n",
    "* ('_c21', DataFrame[dict_col: string, dict_col_id: int], 1543)\n",
    "* ('_c27', DataFrame[dict_col: string, dict_col_id: int], 2208)\n",
    "* ('_c20', DataFrame[dict_col: string, dict_col_id: int], 7122)\n",
    "* ('_c17', DataFrame[dict_col: string, dict_col_id: int], 7424)\n",
    "* ('_c28', DataFrame[dict_col: string, dict_col_id: int], 11938)\n",
    "* ('_c37', DataFrame[dict_col: string, dict_col_id: int], 12973)\n",
    "* ('_c16', DataFrame[dict_col: string, dict_col_id: int], 17295)\n",
    "* ('_c18', DataFrame[dict_col: string, dict_col_id: int], 20265)\n",
    "* ('_c15', DataFrame[dict_col: string, dict_col_id: int], 39060)\n",
    "* ('_c25', DataFrame[dict_col: string, dict_col_id: int], 405282)\n",
    "* ('_c36', DataFrame[dict_col: string, dict_col_id: int], 590151)\n",
    "* ('_c24', DataFrame[dict_col: string, dict_col_id: int], 3067955)\n",
    "* ('_c34', DataFrame[dict_col: string, dict_col_id: int], 40790947)\n",
    "* ('_c23', DataFrame[dict_col: string, dict_col_id: int], 130229466)\n",
    "* ('_c35', DataFrame[dict_col: string, dict_col_id: int], 187188509)\n",
    "* ('_c14', DataFrame[dict_col: string, dict_col_id: int], 227605431)\n",
    "* ('_c33', DataFrame[dict_col: string, dict_col_id: int], 292775613)"
   ]
  }
 ],
 "metadata": {
  "kernelspec": {
   "display_name": "Python 3",
   "language": "python",
   "name": "python3"
  },
  "language_info": {
   "codemirror_mode": {
    "name": "ipython",
    "version": 3
   },
   "file_extension": ".py",
   "mimetype": "text/x-python",
   "name": "python",
   "nbconvert_exporter": "python",
   "pygments_lexer": "ipython3",
   "version": "3.7.4"
  }
 },
 "nbformat": 4,
 "nbformat_minor": 2
}
