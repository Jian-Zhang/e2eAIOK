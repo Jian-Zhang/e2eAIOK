{
 "cells": [
  {
   "cell_type": "code",
   "execution_count": 1,
   "metadata": {},
   "outputs": [],
   "source": [
    "import init\n",
    "\n",
    "import findspark\n",
    "findspark.init()\n",
    "\n",
    "import os\n",
    "import pandas as pd\n",
    "import numpy as np\n",
    "from pyspark.sql import *\n",
    "from pyspark import *\n",
    "import pyspark.sql.functions as f\n",
    "from pyspark.sql.types import *\n",
    "import time\n",
    "from pyrecdp.data_processor import *\n",
    "from pyrecdp.encoder import *\n",
    "from pyrecdp.utils import *\n",
    "\n",
    "spark = SparkSession.builder.master('yarn')\\\n",
    "        .appName(\"Recsys2021_data_process\")\\\n",
    "        .getOrCreate()\n",
    "current_path = \"/recsys2021_0608_processed/\"\n",
    "path_prefix = \"hdfs://\"\n",
    "dicts_folder = \"recsys_dicts/\""
   ]
  },
  {
   "cell_type": "code",
   "execution_count": 7,
   "metadata": {},
   "outputs": [
    {
     "name": "stdout",
     "output_type": "stream",
     "text": [
      "after agg, total number of engaged_with_user_id is 21894172\n",
      "+--------------------+--------------------------------+\n",
      "|engaged_with_user_id|engaged_with_user_follower_count|\n",
      "+--------------------+--------------------------------+\n",
      "|             1757710|                           25273|\n",
      "|              310514|                             979|\n",
      "|                3749|                         1028270|\n",
      "|               16574|                         1163959|\n",
      "|             3968160|                             686|\n",
      "|             1804093|                            2472|\n",
      "|              127109|                           31716|\n",
      "|               15790|                            1623|\n",
      "|            17421974|                             540|\n",
      "|            16154717|                             384|\n",
      "|               35361|                           24650|\n",
      "|              346809|                           51794|\n",
      "|               42635|                          124713|\n",
      "|             5136054|                            1184|\n",
      "|              107032|                            3290|\n",
      "|               56640|                           19835|\n",
      "|             1594277|                           19064|\n",
      "|             8962944|                            1821|\n",
      "|              317983|                            1580|\n",
      "|              341531|                           19183|\n",
      "+--------------------+--------------------------------+\n",
      "only showing top 20 rows\n",
      "\n"
     ]
    },
    {
     "data": {
      "text/plain": [
       "[-inf, 102.0, 237.0, 482.0, 1164.0, inf]"
      ]
     },
     "metadata": {},
     "output_type": "display_data"
    }
   ],
   "source": [
    "from pyspark.ml.feature import *\n",
    "train_data_path= \"/recsys2021_0608_processed/tweet_text_processed_train_with_fold\"\n",
    "train = spark.read.parquet(\"%s/\" % (train_data_path))\n",
    "df = train.select('engaged_with_user_id', 'engaged_with_user_follower_count')\\\n",
    "          .groupby('engaged_with_user_id')\\\n",
    "          .agg(f.max(f.col('engaged_with_user_follower_count')))\\\n",
    "          .withColumnRenamed('max(engaged_with_user_follower_count)', 'engaged_with_user_follower_count')\n",
    "print(\"after agg, total number of engaged_with_user_id is %d\" % df.count())\n",
    "df.show()\n",
    "qd = QuantileDiscretizer(numBuckets=5, inputCol=\"engaged_with_user_follower_count\", outputCol='user_quantile')\n",
    "qdmodel = qd.fit(df)\n",
    "display(qdmodel.getSplits())"
   ]
  }
 ],
 "metadata": {
  "hide_input": false,
  "kernelspec": {
   "display_name": "Python 3",
   "language": "python",
   "name": "python3"
  },
  "language_info": {
   "codemirror_mode": {
    "name": "ipython",
    "version": 3
   },
   "file_extension": ".py",
   "mimetype": "text/x-python",
   "name": "python",
   "nbconvert_exporter": "python",
   "pygments_lexer": "ipython3",
   "version": "3.7.4"
  },
  "nbTranslate": {
   "displayLangs": [
    "*"
   ],
   "hotkey": "alt-t",
   "langInMainMenu": true,
   "sourceLang": "en",
   "targetLang": "fr",
   "useGoogleTranslate": true
  },
  "toc": {
   "base_numbering": 1,
   "nav_menu": {},
   "number_sections": true,
   "sideBar": true,
   "skip_h1_title": false,
   "title_cell": "Table of Contents",
   "title_sidebar": "Contents",
   "toc_cell": false,
   "toc_position": {},
   "toc_section_display": true,
   "toc_window_display": false
  },
  "varInspector": {
   "cols": {
    "lenName": 16,
    "lenType": 16,
    "lenVar": 40
   },
   "kernels_config": {
    "python": {
     "delete_cmd_postfix": "",
     "delete_cmd_prefix": "del ",
     "library": "var_list.py",
     "varRefreshCmd": "print(var_dic_list())"
    },
    "r": {
     "delete_cmd_postfix": ") ",
     "delete_cmd_prefix": "rm(",
     "library": "var_list.r",
     "varRefreshCmd": "cat(var_dic_list()) "
    }
   },
   "types_to_exclude": [
    "module",
    "function",
    "builtin_function_or_method",
    "instance",
    "_Feature"
   ],
   "window_display": false
  }
 },
 "nbformat": 4,
 "nbformat_minor": 2
}
