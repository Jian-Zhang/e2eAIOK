{
 "cells": [
  {
   "cell_type": "code",
   "execution_count": 1,
   "metadata": {},
   "outputs": [
    {
     "name": "stdout",
     "output_type": "stream",
     "text": [
      "/mnt/nvme2/chendi/BlueWhale/frameworks.bigdata.bluewhale/examples/RecSys/submission/RecDP\n"
     ]
    }
   ],
   "source": [
    "#!/env/bin/python\n",
    "\n",
    "import init\n",
    "\n",
    "import findspark\n",
    "findspark.init()\n",
    "\n",
    "import os\n",
    "import pandas as pd\n",
    "import numpy as np\n",
    "from pyspark.sql import *\n",
    "from pyspark import *\n",
    "import pyspark.sql.functions as f\n",
    "from timeit import default_timer as timer\n",
    "from RecsysSchema import RecsysSchema\n",
    "from pyrecdp.data_processor import *\n",
    "from pyrecdp.utils import *\n",
    "\n",
    "path_prefix = \"hdfs://\"\n",
    "categorified_folder = \"/recsys2021/data_all_with_text\"\n",
    "dicts_folder = \"/recsys2021/recsys_dicts\"\n",
    "recsysSchema = RecsysSchema()\n",
    "\n",
    "##### 1. Start spark and initialize data processor #####\n",
    "t0 = timer()\n",
    "spark = SparkSession.builder.master('yarn')\\\n",
    "    .appName(\"Recsys2021_data_viewer\")\\\n",
    "    .getOrCreate()\n",
    "\n",
    "schema = recsysSchema.toStructType()\n",
    "\n",
    "categorified_df = spark.read.parquet(path_prefix + categorified_folder)\n",
    "# load pre-generated dicts and combined with current data\n",
    "dict_names = ['hashtags', 'language', 'present_domains', 'present_links', 'tweet_id', 'user_id']\n",
    "dict_dfs = dict((name, spark.read.parquet(\"%s/%s/%s\" % (path_prefix, dicts_folder, name))) for name in dict_names)\n"
   ]
  },
  {
   "cell_type": "code",
   "execution_count": null,
   "metadata": {},
   "outputs": [],
   "source": [
    "categorified_df.show(1, vertical=True, truncate=False)"
   ]
  },
  {
   "cell_type": "code",
   "execution_count": 9,
   "metadata": {},
   "outputs": [
    {
     "name": "stdout",
     "output_type": "stream",
     "text": [
      "hashtags has numItems 6653969\n",
      "+--------------------+-----------+\n",
      "|            dict_col|dict_col_id|\n",
      "+--------------------+-----------+\n",
      "|A338C5C1637BEDA84...|          0|\n",
      "+--------------------+-----------+\n",
      "only showing top 1 row\n",
      "\n",
      "language has numItems 66\n",
      "+--------------------+-----------+\n",
      "|            dict_col|dict_col_id|\n",
      "+--------------------+-----------+\n",
      "|488B32D24BD4BB441...|          0|\n",
      "+--------------------+-----------+\n",
      "only showing top 1 row\n",
      "\n",
      "present_domains has numItems 900139\n",
      "+--------------------+-----------+\n",
      "|            dict_col|dict_col_id|\n",
      "+--------------------+-----------+\n",
      "|F595B7DE8992A3D8C...|          0|\n",
      "+--------------------+-----------+\n",
      "only showing top 1 row\n",
      "\n",
      "present_links has numItems 15025550\n",
      "+--------------------+-----------+\n",
      "|            dict_col|dict_col_id|\n",
      "+--------------------+-----------+\n",
      "|DAEA7BD8C379EA9E9...|          0|\n",
      "+--------------------+-----------+\n",
      "only showing top 1 row\n",
      "\n",
      "tweet_id has numItems 323033151\n",
      "+--------------------+-----------+\n",
      "|            dict_col|dict_col_id|\n",
      "+--------------------+-----------+\n",
      "|AE62799DC2A663D54...|          0|\n",
      "+--------------------+-----------+\n",
      "only showing top 1 row\n",
      "\n",
      "user_id has numItems 46809755\n",
      "+--------------------+-----------+\n",
      "|            dict_col|dict_col_id|\n",
      "+--------------------+-----------+\n",
      "|D956CB05C8566B63F...|          0|\n",
      "+--------------------+-----------+\n",
      "only showing top 1 row\n",
      "\n"
     ]
    }
   ],
   "source": [
    "for col_name, dict_df in dict_dfs.items():\n",
    "    print(\"%s has numItems %d, schema is dict_col, dict_col_id\" % (col_name, dict_df.count()))\n",
    "    # dict_df.show(1)"
   ]
  },
  {
   "cell_type": "code",
   "execution_count": 2,
   "metadata": {},
   "outputs": [],
   "source": [
    "add_original_df = categorified_df.join(\\\n",
    "    dict_dfs['user_id'].hint('shuffle_hash'), \\\n",
    "    categorified_df.engaged_with_user_id == dict_dfs['user_id'].dict_col_id, \\\n",
    "    'left').withColumnRenamed('dict_col', 'original_engaged_with_user_id').drop('dict_col_id')\n",
    "original_user_id_joined_folder = \"/recsys2021/processed_with_text_and_userid_tmp_0\"\n",
    "add_original_df.write.format('parquet').mode('overwrite').save(path_prefix + original_user_id_joined_folder)\n",
    "add_original_df = spark.read.parquet(path_prefix + original_user_id_joined_folder)"
   ]
  },
  {
   "cell_type": "code",
   "execution_count": 4,
   "metadata": {},
   "outputs": [],
   "source": [
    "add_original_df = add_original_df.join(\\\n",
    "    dict_dfs['user_id'].hint('shuffle_hash'), \\\n",
    "    add_original_df.enaging_user_id == dict_dfs['user_id'].dict_col_id, \\\n",
    "    'left').withColumnRenamed('dict_col', 'original_enaging_user_id').drop('dict_col_id')\n",
    "original_user_id_joined_folder = \"/recsys2021/processed_with_text_and_userid\"\n",
    "add_original_df.write.format('parquet').mode('overwrite').save(path_prefix + original_user_id_joined_folder)"
   ]
  },
  {
   "cell_type": "code",
   "execution_count": 5,
   "metadata": {},
   "outputs": [
    {
     "name": "stdout",
     "output_type": "stream",
     "text": [
      "-RECORD 0---------------------------------------------------------------------------------------------------------------------------------------------------------------------------------------------------------------------------------------------------------------------------------------------------------------------------------------------------------------------------------------------------------------------------------\n",
      " tweet_id                           | 317961                                                                                                                                                                                                                                                                                                                                                                                              \n",
      " text_tokens                        | 101\t100\t196\t107\t146\t27874\t10271\t112\t187\t10105\t31434\t20412\t118\t30265\t17038\t43729\t164\t119\t119\t119\t166\t146\t27874\t10106\t12914\t112\t187\t13578\t10261\t22591\t10114\t68052\t14764\t10114\t10105\t48573\t34316\t10108\t12976\t10261\t10134\t29298\t10108\t119\t12865\t10309\t14794\t78254\t10978\t12820\t10151\t13551\t44898\t118\t48201\t20085\t73495\t66267\t119\t100\t118\t18468\t10135\t12914\t13382\t10105\t19289\t18274\t10146\t119\t119\t119\t102 \n",
      " hashtags                           | 0                                                                                                                                                                                                                                                                                                                                                                                                   \n",
      " present_media                      | 0                                                                                                                                                                                                                                                                                                                                                                                                   \n",
      " present_links                      | 0                                                                                                                                                                                                                                                                                                                                                                                                   \n",
      " present_domains                    | 0                                                                                                                                                                                                                                                                                                                                                                                                   \n",
      " tweet_type                         | 2                                                                                                                                                                                                                                                                                                                                                                                                   \n",
      " language                           | 0                                                                                                                                                                                                                                                                                                                                                                                                   \n",
      " tweet_timestamp                    | 1612431055                                                                                                                                                                                                                                                                                                                                                                                          \n",
      " engaged_with_user_id               | 11033                                                                                                                                                                                                                                                                                                                                                                                               \n",
      " engaged_with_user_follower_count   | 103108                                                                                                                                                                                                                                                                                                                                                                                              \n",
      " engaged_with_user_following_count  | 6                                                                                                                                                                                                                                                                                                                                                                                                   \n",
      " engaged_with_user_is_verified      | false                                                                                                                                                                                                                                                                                                                                                                                               \n",
      " engaged_with_user_account_creation | 1582830647                                                                                                                                                                                                                                                                                                                                                                                          \n",
      " enaging_user_id                    | 35268989                                                                                                                                                                                                                                                                                                                                                                                            \n",
      " enaging_user_follower_count        | 0                                                                                                                                                                                                                                                                                                                                                                                                   \n",
      " enaging_user_following_count       | 15                                                                                                                                                                                                                                                                                                                                                                                                  \n",
      " enaging_user_is_verified           | false                                                                                                                                                                                                                                                                                                                                                                                               \n",
      " enaging_user_account_creation      | 1584734231                                                                                                                                                                                                                                                                                                                                                                                          \n",
      " engagee_follows_engager            | false                                                                                                                                                                                                                                                                                                                                                                                               \n",
      " reply_timestamp                    | 0                                                                                                                                                                                                                                                                                                                                                                                                   \n",
      " retweet_timestamp                  | 0                                                                                                                                                                                                                                                                                                                                                                                                   \n",
      " retweet_with_comment_timestamp     | 0                                                                                                                                                                                                                                                                                                                                                                                                   \n",
      " like_timestamp                     | 0                                                                                                                                                                                                                                                                                                                                                                                                   \n",
      " len_hashtags                       | 0                                                                                                                                                                                                                                                                                                                                                                                                   \n",
      " len_domains                        | 0                                                                                                                                                                                                                                                                                                                                                                                                   \n",
      " len_links                          | 0                                                                                                                                                                                                                                                                                                                                                                                                   \n",
      " engage_time                        | 0                                                                                                                                                                                                                                                                                                                                                                                                   \n",
      " dt_dow                             | 5                                                                                                                                                                                                                                                                                                                                                                                                   \n",
      " dt_hour                            | 17                                                                                                                                                                                                                                                                                                                                                                                                  \n",
      " dt_minute                          | 30                                                                                                                                                                                                                                                                                                                                                                                                  \n",
      " dt_second                          | 55                                                                                                                                                                                                                                                                                                                                                                                                  \n",
      " tweet                              | [CLS] [UNK] | \" I think it's the greatest dance - sequence ever filmed [... ] I think in Harry's head he wanted to push himself to the absolute limit of what he was capable of. We were never talking about just an average soft - shoe shuffle. [UNK] - Roberts on Harry using the Nicholas Brothers as... [SEP]                                                                                  \n",
      " original_engaged_with_user_id      | 8E0562A7475EE61195446C1AABDE119E                                                                                                                                                                                                                                                                                                                                                                    \n",
      " original_enaging_user_id           | 4F09DA1826B70DFE6683F622AD42C6C9                                                                                                                                                                                                                                                                                                                                                                    \n",
      "only showing top 1 row\n",
      "\n"
     ]
    }
   ],
   "source": [
    "original_user_id_joined_folder = \"/recsys2021/processed_with_text_and_userid\"\n",
    "add_original_df = spark.read.parquet(path_prefix + original_user_id_joined_folder)\n",
    "add_original_df.show(1, vertical=True, truncate=False)"
   ]
  }
 ],
 "metadata": {
  "kernelspec": {
   "display_name": "Python 3",
   "language": "python",
   "name": "python3"
  },
  "language_info": {
   "codemirror_mode": {
    "name": "ipython",
    "version": 3
   },
   "file_extension": ".py",
   "mimetype": "text/x-python",
   "name": "python",
   "nbconvert_exporter": "python",
   "pygments_lexer": "ipython3",
   "version": "3.7.4"
  }
 },
 "nbformat": 4,
 "nbformat_minor": 2
}
