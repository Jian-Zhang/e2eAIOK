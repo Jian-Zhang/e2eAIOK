{
 "cells": [
  {
   "cell_type": "code",
   "execution_count": 7,
   "metadata": {},
   "outputs": [],
   "source": [
    "spark.stop()"
   ]
  },
  {
   "cell_type": "code",
   "execution_count": 1,
   "metadata": {},
   "outputs": [],
   "source": [
    "###### Start spark job ######\n",
    "import findspark\n",
    "findspark.init()\n",
    "\n",
    "import logging\n",
    "from timeit import default_timer as timer\n",
    "import os\n",
    "from pyspark import *\n",
    "from pyspark.sql import *\n",
    "from pyspark.sql.functions import *\n",
    "from pyspark.sql.types import *\n",
    "import numpy as np\n",
    "import pandas as pd\n",
    "\n",
    "##### 1. Start spark and initialize data processor #####\n",
    "t0 = timer()\n",
    "spark = SparkSession\\\n",
    "    .builder\\\n",
    "    .master('yarn')\\\n",
    "    .appName(\"GroupbyArray\") \\\n",
    "    .getOrCreate()\n"
   ]
  },
  {
   "cell_type": "code",
   "execution_count": 3,
   "metadata": {},
   "outputs": [
    {
     "name": "stdout",
     "output_type": "stream",
     "text": [
      "+----+--------+\n",
      "|User|Language|\n",
      "+----+--------+\n",
      "|   A| English|\n",
      "|   A| Spanish|\n",
      "|   B|  French|\n",
      "+----+--------+\n",
      "\n",
      "+----+----------------------+\n",
      "|User|collect_list(Language)|\n",
      "+----+----------------------+\n",
      "|   B|              [French]|\n",
      "|   A|    [English, Spanish]|\n",
      "+----+----------------------+\n",
      "\n"
     ]
    }
   ],
   "source": [
    "columns = [\"User\",\"Language\"]\n",
    "data = [(\"A\", \"English\"), (\"A\", \"Spanish\"), (\"B\", \"French\")]\n",
    "df = spark.createDataFrame(data, columns)\n",
    "df.show()\n",
    "\n",
    "df = df.groupby(\"User\").agg(collect_list(\"Language\"))\n",
    "df.show()"
   ]
  },
  {
   "cell_type": "code",
   "execution_count": 4,
   "metadata": {},
   "outputs": [
    {
     "name": "stdout",
     "output_type": "stream",
     "text": [
      "+----+--------+\n",
      "|User|Language|\n",
      "+----+--------+\n",
      "|   A| English|\n",
      "|   A| Spanish|\n",
      "|   B|  French|\n",
      "|   B|   Greek|\n",
      "+----+--------+\n",
      "\n"
     ]
    }
   ],
   "source": [
    "columns = [\"User\",\"Language\"]\n",
    "data = [(\"A\", \"English\"), (\"A\", \"Spanish\"), (\"B\", \"French\"), (\"B\", \"Greek\")]\n",
    "df_records = spark.createDataFrame(data, columns)\n",
    "df_records.show()"
   ]
  },
  {
   "cell_type": "code",
   "execution_count": null,
   "metadata": {},
   "outputs": [],
   "source": [
    "new_df = df_records.join(df, 'User', 'left').withColumn('indicator', expr())"
   ]
  },
  {
   "cell_type": "code",
   "execution_count": null,
   "metadata": {},
   "outputs": [],
   "source": [
    "#new_df = df.select(explode(col(\"Language\"))).groupBy('col').count()"
   ]
  }
 ],
 "metadata": {
  "kernelspec": {
   "display_name": "Python 3",
   "language": "python",
   "name": "python3"
  },
  "language_info": {
   "codemirror_mode": {
    "name": "ipython",
    "version": 3
   },
   "file_extension": ".py",
   "mimetype": "text/x-python",
   "name": "python",
   "nbconvert_exporter": "python",
   "pygments_lexer": "ipython3",
   "version": "3.7.4"
  }
 },
 "nbformat": 4,
 "nbformat_minor": 2
}
