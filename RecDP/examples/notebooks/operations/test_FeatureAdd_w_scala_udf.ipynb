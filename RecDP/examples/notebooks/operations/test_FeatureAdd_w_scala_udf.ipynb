{
 "cells": [
  {
   "cell_type": "code",
   "execution_count": 1,
   "metadata": {},
   "outputs": [
    {
     "name": "stdout",
     "output_type": "stream",
     "text": [
      "/mnt/nvme2/chendi/BlueWhale/recdp\n"
     ]
    }
   ],
   "source": [
    "#!/env/bin/python\n",
    "\n",
    "import init\n",
    "\n",
    "import findspark\n",
    "findspark.init()\n",
    "\n",
    "import os\n",
    "import pandas as pd\n",
    "import numpy as np\n",
    "from pyspark.sql import *\n",
    "from pyspark import *\n",
    "import pyspark.sql.functions as f\n",
    "from timeit import default_timer as timer\n",
    "import logging\n",
    "from pyrecdp.data_processor import *\n",
    "from pyrecdp.utils import *\n",
    "from pyspark.sql.functions import pandas_udf, PandasUDFType\n",
    "\n",
    "path_prefix = \"hdfs://\"\n",
    "current_path = \"/recsys2021_0608_scalaudf_test/\"\n",
    "original_folder = \"/recsys2021_0608/\"\n",
    "\n",
    "scala_udf_jars = \"/mnt/nvme2/chendi/BlueWhale/recdp/ScalaProcessUtils/target/recdp-scala-extensions-0.1.0-jar-with-dependencies.jar\"\n",
    "\n",
    "##### 1. Start spark and initialize data processor #####\n",
    "t0 = timer()\n",
    "spark = SparkSession.builder.master('yarn')\\\n",
    "    .appName(\"scala_udf_column\")\\\n",
    "    .config(\"spark.sql.broadcastTimeout\", \"7200\")\\\n",
    "    .config(\"spark.cleaner.periodicGC.interval\", \"10min\")\\\n",
    "    .config(\"spark.driver.extraClassPath\", f\"{scala_udf_jars}\")\\\n",
    "    .config(\"spark.executor.extraClassPath\", f\"{scala_udf_jars}\")\\\n",
    "    .config(\"spark.executor.memory\", \"20g\")\\\n",
    "    .config(\"spark.executor.memoryOverhead\", \"6g\")\\\n",
    "    .getOrCreate()\n",
    "\n"
   ]
  },
  {
   "cell_type": "markdown",
   "metadata": {},
   "source": [
    "### Example 1.1: CategorifyByFreqForArray"
   ]
  },
  {
   "cell_type": "code",
   "execution_count": 9,
   "metadata": {
    "scrolled": false
   },
   "outputs": [
    {
     "name": "stdout",
     "output_type": "stream",
     "text": [
      "recdp-scala-extension is enabled\n",
      "per core memory size is 5.000 GB and shuffle_disk maximum capacity is 8589934592.000 GB\n",
      "+--------+--------------------+\n",
      "|hashtags|       hashtags_orig|\n",
      "+--------+--------------------+\n",
      "|    null|                null|\n",
      "|      80|1A703973FF98425EE...|\n",
      "|    null|                null|\n",
      "|    null|                null|\n",
      "|    null|                null|\n",
      "|    null|                null|\n",
      "|     119|A31D528F61979FC70...|\n",
      "|    null|                null|\n",
      "|    null|                null|\n",
      "|    null|                null|\n",
      "|    null|                null|\n",
      "|    null|                null|\n",
      "|    null|                null|\n",
      "|    null|                null|\n",
      "|    null|                null|\n",
      "|    null|                null|\n",
      "|    null|                null|\n",
      "|    null|                null|\n",
      "|    null|                null|\n",
      "|    null|                null|\n",
      "+--------+--------------------+\n",
      "only showing top 20 rows\n",
      "\n"
     ]
    }
   ],
   "source": [
    "dict_df = spark.read.parquet(\"/recsys2020_0608_categorify_example/recsys_dicts/hashtags\")\n",
    "df = spark.read.parquet(\"/recsys2021_0608/\")\n",
    "df = df.select(\"hashtags\").withColumn(\"hashtags_orig\", f.col(\"hashtags\"))\n",
    "\n",
    "proc = DataProcessor(spark, \"hdfs://\", \"/recdp_operations_example/\")\n",
    "op_categorify = Categorify(\n",
    "    ['hashtags'],\n",
    "    dict_dfs=[{'col_name': 'hashtags', 'dict': dict_df}],\n",
    "    hint = 'udf',\n",
    "    doSplit = True,\n",
    "    keepMostFrequent = True\n",
    ")\n",
    "proc.reset_ops([op_categorify])\n",
    "proc.get_sample(df)"
   ]
  },
  {
   "cell_type": "markdown",
   "metadata": {},
   "source": [
    "### Example 1.2: CategorifyForArray"
   ]
  },
  {
   "cell_type": "code",
   "execution_count": 10,
   "metadata": {
    "scrolled": false
   },
   "outputs": [
    {
     "name": "stdout",
     "output_type": "stream",
     "text": [
      "recdp-scala-extension is enabled\n",
      "per core memory size is 5.000 GB and shuffle_disk maximum capacity is 8589934592.000 GB\n",
      "+--------------------+--------------------+\n",
      "|            hashtags|       hashtags_orig|\n",
      "+--------------------+--------------------+\n",
      "|                  []|                null|\n",
      "|                [80]|1A703973FF98425EE...|\n",
      "|                  []|                null|\n",
      "|                  []|                null|\n",
      "|                  []|                null|\n",
      "|                  []|                null|\n",
      "|[5680, 6617, 120,...|A31D528F61979FC70...|\n",
      "|                  []|                null|\n",
      "|                  []|                null|\n",
      "|                  []|                null|\n",
      "|                  []|                null|\n",
      "|                  []|                null|\n",
      "|                  []|                null|\n",
      "|                  []|                null|\n",
      "|                  []|                null|\n",
      "|                  []|                null|\n",
      "|                  []|                null|\n",
      "|                  []|                null|\n",
      "|                  []|                null|\n",
      "|                  []|                null|\n",
      "+--------------------+--------------------+\n",
      "only showing top 20 rows\n",
      "\n"
     ]
    }
   ],
   "source": [
    "dict_df = spark.read.parquet(\"/recsys2020_0608_categorify_example/recsys_dicts/hashtags\")\n",
    "df = spark.read.parquet(\"/recsys2021_0608/\")\n",
    "df = df.select(\"hashtags\").withColumn(\"hashtags_orig\", f.col(\"hashtags\"))\n",
    "\n",
    "proc = DataProcessor(spark, \"hdfs://\", \"/recdp_operations_example/\")\n",
    "op_categorify = Categorify(\n",
    "    ['hashtags'],\n",
    "    dict_dfs=[{'col_name': 'hashtags', 'dict': dict_df}],\n",
    "    hint = 'udf',\n",
    "    doSplit = True\n",
    ")\n",
    "proc.reset_ops([op_categorify])\n",
    "proc.get_sample(df)"
   ]
  },
  {
   "cell_type": "markdown",
   "metadata": {},
   "source": [
    "### Example 2: Categorify"
   ]
  },
  {
   "cell_type": "code",
   "execution_count": 11,
   "metadata": {
    "scrolled": false
   },
   "outputs": [
    {
     "name": "stdout",
     "output_type": "stream",
     "text": [
      "recdp-scala-extension is enabled\n",
      "per core memory size is 5.000 GB and shuffle_disk maximum capacity is 8589934592.000 GB\n",
      "+-------+-------------+\n",
      "|mention| mention_orig|\n",
      "+-------+-------------+\n",
      "|     22|             |\n",
      "|     22|             |\n",
      "|      7|pedrojubierna|\n",
      "|     22|             |\n",
      "|     22|             |\n",
      "|     22|             |\n",
      "|     22|             |\n",
      "|     22|             |\n",
      "|     22|             |\n",
      "|     22|             |\n",
      "|     22|             |\n",
      "|     22|             |\n",
      "|     22|             |\n",
      "|     22|             |\n",
      "|     22|             |\n",
      "|     22|             |\n",
      "|     22|             |\n",
      "|     22|             |\n",
      "|     22|             |\n",
      "|     22|             |\n",
      "+-------+-------------+\n",
      "only showing top 20 rows\n",
      "\n"
     ]
    }
   ],
   "source": [
    "dict_df = spark.read.parquet(\"/recsys2021_0608_example/recsys_dicts/mention\")\n",
    "df = spark.read.parquet(\"/recsys2021_0608_example/train_with_categorified_features_test\")\n",
    "df = df.select(\"mention\").withColumn(\"mention_orig\", f.col(\"mention\"))\n",
    "\n",
    "proc = DataProcessor(spark, \"hdfs://\", \"/recdp_operations_example/\")\n",
    "op_categorify = Categorify(\n",
    "    ['mention'],\n",
    "    dict_dfs=[{'col_name': 'mention', 'dict': dict_df}],\n",
    "    hint = 'udf'\n",
    ")\n",
    "proc.reset_ops([op_categorify])\n",
    "proc.get_sample(df)"
   ]
  },
  {
   "cell_type": "markdown",
   "metadata": {},
   "source": [
    "### Example 3: CodegenSeparator"
   ]
  },
  {
   "cell_type": "code",
   "execution_count": 7,
   "metadata": {
    "scrolled": false
   },
   "outputs": [
    {
     "name": "stdout",
     "output_type": "stream",
     "text": [
      "[('tweet_timestamp', 'bigint')]\n",
      "+---------------+\n",
      "|tweet_timestamp|\n",
      "+---------------+\n",
      "|     1613574302|\n",
      "|     1612628499|\n",
      "|     1613233141|\n",
      "|     1613373619|\n",
      "|     1614053869|\n",
      "|     1613130630|\n",
      "|     1613721703|\n",
      "|     1612706347|\n",
      "|     1613905759|\n",
      "|     1613854589|\n",
      "|     1613217462|\n",
      "|     1612584698|\n",
      "|     1613590692|\n",
      "|     1613805413|\n",
      "|     1612540790|\n",
      "|     1613509274|\n",
      "|     1613437436|\n",
      "|     1614099587|\n",
      "|     1612914478|\n",
      "|     1612815075|\n",
      "+---------------+\n",
      "only showing top 20 rows\n",
      "\n"
     ]
    }
   ],
   "source": [
    "gateway = spark.sparkContext._gateway\n",
    "spark._jsparkSession.udf().register(\"CodegenSeparator\", gateway.jvm.org.apache.spark.sql.api.CodegenSeparator())\n",
    "spark._jsparkSession.udf().register(\"CodegenSeparator0\", gateway.jvm.org.apache.spark.sql.api.CodegenSeparator0())\n",
    "spark._jsparkSession.udf().register(\"CodegenSeparator1\", gateway.jvm.org.apache.spark.sql.api.CodegenSeparator1())\n",
    "spark._jsparkSession.udf().register(\"CodegenSeparator2\", gateway.jvm.org.apache.spark.sql.api.CodegenSeparator2())\n",
    "df = spark.read.parquet(\"/recsys2021_0608_example/train_with_categorified_features_test\")\n",
    "df = df.select(\"tweet_timestamp\")\n",
    "df = df.withColumn('tweet_timestamp', f.expr(\"CodegenSeparator2(tweet_timestamp)\"))\n",
    "print(df.dtypes)\n",
    "df.show()"
   ]
  },
  {
   "cell_type": "markdown",
   "metadata": {},
   "source": [
    "### Example 4: sortStringArrayByFrequency and sortIntegerArrayByFrequency"
   ]
  },
  {
   "cell_type": "code",
   "execution_count": 23,
   "metadata": {
    "scrolled": false
   },
   "outputs": [
    {
     "name": "stdout",
     "output_type": "stream",
     "text": [
      "-RECORD 0--------------------------------------------------------------------------------------------------------------------\n",
      " engaged_with_user_id | 000097973EC6EAD0F129E47A652711F8                                                                     \n",
      " tweet_id             | [9A8B5B7DCF2211FB642C78DF8DF54699]                                                                   \n",
      " sorted_tweet_id      | [9A8B5B7DCF2211FB642C78DF8DF54699]                                                                   \n",
      "-RECORD 1--------------------------------------------------------------------------------------------------------------------\n",
      " engaged_with_user_id | 00019AA271E5715BC857B49D97C162AB                                                                     \n",
      " tweet_id             | [29C0142E44F15DCFE3EB7E03F961FF83]                                                                   \n",
      " sorted_tweet_id      | [29C0142E44F15DCFE3EB7E03F961FF83]                                                                   \n",
      "-RECORD 2--------------------------------------------------------------------------------------------------------------------\n",
      " engaged_with_user_id | 0006DF11AA00736A5DEA555325BCFC53                                                                     \n",
      " tweet_id             | [C60548620D1D5812600C7AAE6B8035B9, 3A4C792AD82431945039D07041566E06]                                 \n",
      " sorted_tweet_id      | [C60548620D1D5812600C7AAE6B8035B9, 3A4C792AD82431945039D07041566E06]                                 \n",
      "-RECORD 3--------------------------------------------------------------------------------------------------------------------\n",
      " engaged_with_user_id | 000A44D2EB9F62FD43F1629396E79027                                                                     \n",
      " tweet_id             | [20459E1E9AF78B609D19D93C2239181C]                                                                   \n",
      " sorted_tweet_id      | [20459E1E9AF78B609D19D93C2239181C]                                                                   \n",
      "-RECORD 4--------------------------------------------------------------------------------------------------------------------\n",
      " engaged_with_user_id | 000A5181FB805AECDD8B3C9885E747E3                                                                     \n",
      " tweet_id             | [29156C67DEB8F721CFC8AD41CC394614]                                                                   \n",
      " sorted_tweet_id      | [29156C67DEB8F721CFC8AD41CC394614]                                                                   \n",
      "-RECORD 5--------------------------------------------------------------------------------------------------------------------\n",
      " engaged_with_user_id | 000C74CB320E603AFCBD627EA87B6F52                                                                     \n",
      " tweet_id             | [BED406E79A7E89B2F6681A3F97EFA3B9]                                                                   \n",
      " sorted_tweet_id      | [BED406E79A7E89B2F6681A3F97EFA3B9]                                                                   \n",
      "-RECORD 6--------------------------------------------------------------------------------------------------------------------\n",
      " engaged_with_user_id | 0011AD9F8685B8F9C78C567DE0D3A36D                                                                     \n",
      " tweet_id             | [290819EE41D3D540EE497EFCE807B033, BA4FB7F72F14D69589232E91532E37B6]                                 \n",
      " sorted_tweet_id      | [BA4FB7F72F14D69589232E91532E37B6, 290819EE41D3D540EE497EFCE807B033]                                 \n",
      "-RECORD 7--------------------------------------------------------------------------------------------------------------------\n",
      " engaged_with_user_id | 0012CE19CDFC95AD77327BD0987A6AD0                                                                     \n",
      " tweet_id             | [8DF521BBDF4F3C08D482DA5A53DAE15B]                                                                   \n",
      " sorted_tweet_id      | [8DF521BBDF4F3C08D482DA5A53DAE15B]                                                                   \n",
      "-RECORD 8--------------------------------------------------------------------------------------------------------------------\n",
      " engaged_with_user_id | 00144DB842898B44D023CDA3A2DE629C                                                                     \n",
      " tweet_id             | [F3FD6F836B0000E7F36D7AF233147938]                                                                   \n",
      " sorted_tweet_id      | [F3FD6F836B0000E7F36D7AF233147938]                                                                   \n",
      "-RECORD 9--------------------------------------------------------------------------------------------------------------------\n",
      " engaged_with_user_id | 0014BA51669944920AC6E33C5B95B0DB                                                                     \n",
      " tweet_id             | [E64C8BC498F22BC8106862DA4460F7EB]                                                                   \n",
      " sorted_tweet_id      | [E64C8BC498F22BC8106862DA4460F7EB]                                                                   \n",
      "-RECORD 10-------------------------------------------------------------------------------------------------------------------\n",
      " engaged_with_user_id | 00157C4D94462B388CCC77298FAF1A64                                                                     \n",
      " tweet_id             | [F8764755FD1E2698108E45ADEE16C55A, B21D91AB251C41D161835C97BF837BF9]                                 \n",
      " sorted_tweet_id      | [F8764755FD1E2698108E45ADEE16C55A, B21D91AB251C41D161835C97BF837BF9]                                 \n",
      "-RECORD 11-------------------------------------------------------------------------------------------------------------------\n",
      " engaged_with_user_id | 00183428F77726C5ADF6A915F92E2554                                                                     \n",
      " tweet_id             | [E6512F790B1B625EC3577721BA508AEB, 3D3A5962A7421F7211DE3E110347B0BB, 456E6C67BC21F192858EADA71155... \n",
      " sorted_tweet_id      | [4183774FF1CD612EA898EC86498C5129, 456E6C67BC21F192858EADA71155B2EC, 3D3A5962A7421F7211DE3E110347... \n",
      "-RECORD 12-------------------------------------------------------------------------------------------------------------------\n",
      " engaged_with_user_id | 0018CAD2EA842B5174480A3FE676B4E0                                                                     \n",
      " tweet_id             | [90407B49F4579872D644685064A2B5B4]                                                                   \n",
      " sorted_tweet_id      | [90407B49F4579872D644685064A2B5B4]                                                                   \n",
      "-RECORD 13-------------------------------------------------------------------------------------------------------------------\n",
      " engaged_with_user_id | 001ED7F203FDBF8B7852B05871681A2D                                                                     \n",
      " tweet_id             | [0CF74BC01E04409D1EE0F11A26997D0A]                                                                   \n",
      " sorted_tweet_id      | [0CF74BC01E04409D1EE0F11A26997D0A]                                                                   \n",
      "-RECORD 14-------------------------------------------------------------------------------------------------------------------\n",
      " engaged_with_user_id | 001FD1CBA364E80403ADB793434C7EC2                                                                     \n",
      " tweet_id             | [5CEE8D0133C3D6E9C3E25DF02460004A]                                                                   \n",
      " sorted_tweet_id      | [5CEE8D0133C3D6E9C3E25DF02460004A]                                                                   \n",
      "-RECORD 15-------------------------------------------------------------------------------------------------------------------\n",
      " engaged_with_user_id | 00265BB2E9944297E0D82D52C430275B                                                                     \n",
      " tweet_id             | [AA62ABA22C6A07D95BAE5BB1AB88F3F0]                                                                   \n",
      " sorted_tweet_id      | [AA62ABA22C6A07D95BAE5BB1AB88F3F0]                                                                   \n",
      "-RECORD 16-------------------------------------------------------------------------------------------------------------------\n",
      " engaged_with_user_id | 002892FA3EBA69066E64539680D02426                                                                     \n",
      " tweet_id             | [4400D64CF418243BA6C326D3228AD4F4]                                                                   \n",
      " sorted_tweet_id      | [4400D64CF418243BA6C326D3228AD4F4]                                                                   \n",
      "-RECORD 17-------------------------------------------------------------------------------------------------------------------\n",
      " engaged_with_user_id | 002909AF49CE54E02C744EFBA5BB0096                                                                     \n",
      " tweet_id             | [AD2A8EEB6942DA572C4D0264003D2FB1]                                                                   \n",
      " sorted_tweet_id      | [AD2A8EEB6942DA572C4D0264003D2FB1]                                                                   \n",
      "-RECORD 18-------------------------------------------------------------------------------------------------------------------\n",
      " engaged_with_user_id | 002A46EDB320995FBE36846F5EBA17D4                                                                     \n",
      " tweet_id             | [1A58A439428D68F7302E07234428472F]                                                                   \n",
      " sorted_tweet_id      | [1A58A439428D68F7302E07234428472F]                                                                   \n",
      "-RECORD 19-------------------------------------------------------------------------------------------------------------------\n",
      " engaged_with_user_id | 002B452AA089B5774CAEA44A26E8E382                                                                     \n",
      " tweet_id             | [5F219297994025A56C3763A21ACC53D0]                                                                   \n",
      " sorted_tweet_id      | [5F219297994025A56C3763A21ACC53D0]                                                                   \n",
      "only showing top 20 rows\n",
      "\n"
     ]
    }
   ],
   "source": [
    "# 1.1 prepare dataFrames\n",
    "# 1.2 create RecDP DataProcessor\n",
    "spark.udf.registerJavaFunction(\"SortStringArrayByFrequency\",\"com.intel.recdp.SortStringArrayByFrequency\")\n",
    "df = spark.read.parquet(\"/recsys2021_0608_example/train_with_categorified_features_test\")\n",
    "df = df.select(\"engaged_with_user_id\", 'tweet_id').groupby('engaged_with_user_id').agg(f.collect_list('tweet_id').alias('tweet_id'))\n",
    "df = df.withColumn('sorted_tweet_id', f.expr('SortStringArrayByFrequency(tweet_id)'))\n",
    "\n",
    "df.show(vertical=True, truncate=100)"
   ]
  }
 ],
 "metadata": {
  "kernelspec": {
   "display_name": "Python 3",
   "language": "python",
   "name": "python3"
  },
  "language_info": {
   "codemirror_mode": {
    "name": "ipython",
    "version": 3
   },
   "file_extension": ".py",
   "mimetype": "text/x-python",
   "name": "python",
   "nbconvert_exporter": "python",
   "pygments_lexer": "ipython3",
   "version": "3.7.4"
  }
 },
 "nbformat": 4,
 "nbformat_minor": 2
}
