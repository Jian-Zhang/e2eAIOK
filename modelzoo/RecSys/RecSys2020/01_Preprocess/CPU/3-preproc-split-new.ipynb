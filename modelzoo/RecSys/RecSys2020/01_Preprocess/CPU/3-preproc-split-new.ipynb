{
 "cells": [
  {
   "cell_type": "markdown",
   "metadata": {},
   "source": [
    "Copyright (c) 2020, NVIDIA CORPORATION.\n",
    "\n",
    "Modifications copyright Intel. \n",
    "\n",
    "Licensed under the Apache License, Version 2.0 (the \"License\");\n",
    "you may not use this file except in compliance with the License.\n",
    "You may obtain a copy of the License at\n",
    "    http://www.apache.org/licenses/LICENSE-2.0\n",
    "Unless required by applicable law or agreed to in writing, software\n",
    "distributed under the License is distributed on an \"AS IS\" BASIS,\n",
    "WITHOUT WARRANTIES OR CONDITIONS OF ANY KIND, either express or implied.\n",
    "See the License for the specific language governing permissions and\n",
    "limitations under the License."
   ]
  },
  {
   "cell_type": "markdown",
   "metadata": {},
   "source": [
    "###  BertTokenizer to analysis text_token, extract tweets \n"
   ]
  },
  {
   "cell_type": "code",
   "execution_count": 1,
   "metadata": {},
   "outputs": [
    {
     "data": {
      "application/vnd.jupyter.widget-view+json": {
       "model_id": "32d26dd2376f4091827cf48287ec6e6d",
       "version_major": 2,
       "version_minor": 0
      },
      "text/plain": [
       "HBox(children=(FloatProgress(value=0.0, description='Downloading', max=995526.0, style=ProgressStyle(descripti…"
      ]
     },
     "metadata": {},
     "output_type": "display_data"
    },
    {
     "name": "stdout",
     "output_type": "stream",
     "text": [
      "\n"
     ]
    }
   ],
   "source": [
    "import matplotlib.pyplot as plt\n",
    "%matplotlib inline  \n",
    "\n",
    "import pandas as pd\n",
    "import numpy as np\n",
    "import gc\n",
    "from tqdm.notebook import tqdm\n",
    "\n",
    "from transformers import *\n",
    "tokenizer = BertTokenizer.from_pretrained('bert-base-multilingual-cased', do_lower_case=False)\n",
    "\n",
    "import time \n",
    "from datetime import datetime "
   ]
  },
  {
   "cell_type": "code",
   "execution_count": 2,
   "metadata": {},
   "outputs": [],
   "source": [
    "time_begin = datetime.now()"
   ]
  },
  {
   "cell_type": "code",
   "execution_count": 3,
   "metadata": {},
   "outputs": [
    {
     "name": "stdout",
     "output_type": "stream",
     "text": [
      "CPU times: user 6min 15s, sys: 1min 21s, total: 7min 36s\n",
      "Wall time: 7min 39s\n"
     ]
    },
    {
     "data": {
      "text/html": [
       "<div>\n",
       "<style scoped>\n",
       "    .dataframe tbody tr th:only-of-type {\n",
       "        vertical-align: middle;\n",
       "    }\n",
       "\n",
       "    .dataframe tbody tr th {\n",
       "        vertical-align: top;\n",
       "    }\n",
       "\n",
       "    .dataframe thead th {\n",
       "        text-align: right;\n",
       "    }\n",
       "</style>\n",
       "<table border=\"1\" class=\"dataframe\">\n",
       "  <thead>\n",
       "    <tr style=\"text-align: right;\">\n",
       "      <th></th>\n",
       "      <th>text_tokens</th>\n",
       "      <th>id</th>\n",
       "    </tr>\n",
       "  </thead>\n",
       "  <tbody>\n",
       "    <tr>\n",
       "      <th>0</th>\n",
       "      <td>101\\t60104\\t112\\t187\\t29522\\t12174\\t10347\\t348...</td>\n",
       "      <td>0</td>\n",
       "    </tr>\n",
       "    <tr>\n",
       "      <th>1</th>\n",
       "      <td>101\\t16202\\t15853\\t23886\\t10291\\t11670\\t88237\\...</td>\n",
       "      <td>1</td>\n",
       "    </tr>\n",
       "    <tr>\n",
       "      <th>2</th>\n",
       "      <td>101\\t62338\\t17502\\t94028\\t10126\\t100448\\t10954...</td>\n",
       "      <td>2</td>\n",
       "    </tr>\n",
       "    <tr>\n",
       "      <th>3</th>\n",
       "      <td>101\\t56898\\t137\\t91729\\t50784\\t77966\\t11373\\t1...</td>\n",
       "      <td>3</td>\n",
       "    </tr>\n",
       "    <tr>\n",
       "      <th>4</th>\n",
       "      <td>101\\t56898\\t137\\t32718\\t11447\\t19584\\t10112\\t1...</td>\n",
       "      <td>4</td>\n",
       "    </tr>\n",
       "  </tbody>\n",
       "</table>\n",
       "</div>"
      ],
      "text/plain": [
       "                                         text_tokens  id\n",
       "0  101\\t60104\\t112\\t187\\t29522\\t12174\\t10347\\t348...   0\n",
       "1  101\\t16202\\t15853\\t23886\\t10291\\t11670\\t88237\\...   1\n",
       "2  101\\t62338\\t17502\\t94028\\t10126\\t100448\\t10954...   2\n",
       "3  101\\t56898\\t137\\t91729\\t50784\\t77966\\t11373\\t1...   3\n",
       "4  101\\t56898\\t137\\t32718\\t11447\\t19584\\t10112\\t1...   4"
      ]
     },
     "execution_count": 3,
     "metadata": {},
     "output_type": "execute_result"
    }
   ],
   "source": [
    "%%time\n",
    "df = pd.read_csv('/mnt/DP_disk3/Recsys/training.tsv', sep='\\x01', header=None, usecols=[0] )\n",
    "df.columns = ['text_tokens']\n",
    "df['id']   = np.arange( df.shape[0] )\n",
    "df['id']   = df['id'].astype(np.uint32)\n",
    "gc.collect()\n",
    "df.head()"
   ]
  },
  {
   "cell_type": "code",
   "execution_count": 4,
   "metadata": {},
   "outputs": [
    {
     "name": "stdout",
     "output_type": "stream",
     "text": [
      "CPU times: user 33.5 s, sys: 6.5 s, total: 40 s\n",
      "Wall time: 40.3 s\n"
     ]
    },
    {
     "data": {
      "text/html": [
       "<div>\n",
       "<style scoped>\n",
       "    .dataframe tbody tr th:only-of-type {\n",
       "        vertical-align: middle;\n",
       "    }\n",
       "\n",
       "    .dataframe tbody tr th {\n",
       "        vertical-align: top;\n",
       "    }\n",
       "\n",
       "    .dataframe thead th {\n",
       "        text-align: right;\n",
       "    }\n",
       "</style>\n",
       "<table border=\"1\" class=\"dataframe\">\n",
       "  <thead>\n",
       "    <tr style=\"text-align: right;\">\n",
       "      <th></th>\n",
       "      <th>text_tokens</th>\n",
       "      <th>id</th>\n",
       "    </tr>\n",
       "  </thead>\n",
       "  <tbody>\n",
       "    <tr>\n",
       "      <th>0</th>\n",
       "      <td>101\\t10117\\t140\\t119\\t142\\t119\\t152\\t119\\t1010...</td>\n",
       "      <td>96600391</td>\n",
       "    </tr>\n",
       "    <tr>\n",
       "      <th>1</th>\n",
       "      <td>101\\t10105\\t10817\\t10124\\t59232\\t18121\\t15629\\...</td>\n",
       "      <td>96600392</td>\n",
       "    </tr>\n",
       "    <tr>\n",
       "      <th>2</th>\n",
       "      <td>101\\t48561\\t10116\\t67737\\t18554\\t36371\\t10989\\...</td>\n",
       "      <td>96600393</td>\n",
       "    </tr>\n",
       "    <tr>\n",
       "      <th>3</th>\n",
       "      <td>101\\t100055\\t69940\\t10414\\t159\\t11305\\t11166\\t...</td>\n",
       "      <td>96600394</td>\n",
       "    </tr>\n",
       "    <tr>\n",
       "      <th>4</th>\n",
       "      <td>101\\t62154\\t32221\\t71843\\t10143\\t10237\\t15507\\...</td>\n",
       "      <td>96600395</td>\n",
       "    </tr>\n",
       "  </tbody>\n",
       "</table>\n",
       "</div>"
      ],
      "text/plain": [
       "                                         text_tokens        id\n",
       "0  101\\t10117\\t140\\t119\\t142\\t119\\t152\\t119\\t1010...  96600391\n",
       "1  101\\t10105\\t10817\\t10124\\t59232\\t18121\\t15629\\...  96600392\n",
       "2  101\\t48561\\t10116\\t67737\\t18554\\t36371\\t10989\\...  96600393\n",
       "3  101\\t100055\\t69940\\t10414\\t159\\t11305\\t11166\\t...  96600394\n",
       "4  101\\t62154\\t32221\\t71843\\t10143\\t10237\\t15507\\...  96600395"
      ]
     },
     "execution_count": 4,
     "metadata": {},
     "output_type": "execute_result"
    }
   ],
   "source": [
    "%%time\n",
    "dv = pd.read_csv('/mnt/DP_disk3/Recsys/val.tsv', sep='\\x01', header=None, usecols=[0] )\n",
    "dv.columns = ['text_tokens']\n",
    "dv['id']   = np.arange( df.shape[0] , df.shape[0]+dv.shape[0] )\n",
    "dv['id']   = dv['id'].astype(np.uint32)\n",
    "gc.collect()\n",
    "dv.head()"
   ]
  },
  {
   "cell_type": "code",
   "execution_count": 5,
   "metadata": {},
   "outputs": [
    {
     "name": "stdout",
     "output_type": "stream",
     "text": [
      "CPU times: user 33.9 s, sys: 7.21 s, total: 41.1 s\n",
      "Wall time: 41.4 s\n"
     ]
    },
    {
     "data": {
      "text/html": [
       "<div>\n",
       "<style scoped>\n",
       "    .dataframe tbody tr th:only-of-type {\n",
       "        vertical-align: middle;\n",
       "    }\n",
       "\n",
       "    .dataframe tbody tr th {\n",
       "        vertical-align: top;\n",
       "    }\n",
       "\n",
       "    .dataframe thead th {\n",
       "        text-align: right;\n",
       "    }\n",
       "</style>\n",
       "<table border=\"1\" class=\"dataframe\">\n",
       "  <thead>\n",
       "    <tr style=\"text-align: right;\">\n",
       "      <th></th>\n",
       "      <th>text_tokens</th>\n",
       "      <th>id</th>\n",
       "    </tr>\n",
       "  </thead>\n",
       "  <tbody>\n",
       "    <tr>\n",
       "      <th>0</th>\n",
       "      <td>101\\t3100\\t5477\\t3028\\t4348\\t1924\\t111806\\t186...</td>\n",
       "      <td>106543692</td>\n",
       "    </tr>\n",
       "    <tr>\n",
       "      <th>1</th>\n",
       "      <td>101\\t56898\\t137\\t36110\\t10400\\t168\\t64062\\t131...</td>\n",
       "      <td>106543693</td>\n",
       "    </tr>\n",
       "    <tr>\n",
       "      <th>2</th>\n",
       "      <td>101\\t10117\\t23672\\t12610\\t86532\\t11205\\t90138\\...</td>\n",
       "      <td>106543694</td>\n",
       "    </tr>\n",
       "    <tr>\n",
       "      <th>3</th>\n",
       "      <td>101\\t13690\\t14372\\t119\\t119\\t19281\\t25444\\t984...</td>\n",
       "      <td>106543695</td>\n",
       "    </tr>\n",
       "    <tr>\n",
       "      <th>4</th>\n",
       "      <td>101\\t56898\\t137\\t171\\t64791\\t168\\t11499\\t10330...</td>\n",
       "      <td>106543696</td>\n",
       "    </tr>\n",
       "  </tbody>\n",
       "</table>\n",
       "</div>"
      ],
      "text/plain": [
       "                                         text_tokens         id\n",
       "0  101\\t3100\\t5477\\t3028\\t4348\\t1924\\t111806\\t186...  106543692\n",
       "1  101\\t56898\\t137\\t36110\\t10400\\t168\\t64062\\t131...  106543693\n",
       "2  101\\t10117\\t23672\\t12610\\t86532\\t11205\\t90138\\...  106543694\n",
       "3  101\\t13690\\t14372\\t119\\t119\\t19281\\t25444\\t984...  106543695\n",
       "4  101\\t56898\\t137\\t171\\t64791\\t168\\t11499\\t10330...  106543696"
      ]
     },
     "execution_count": 5,
     "metadata": {},
     "output_type": "execute_result"
    }
   ],
   "source": [
    "%%time\n",
    "dt = pd.read_csv('/mnt/DP_disk3/Recsys/test.tsv', sep='\\x01', header=None, usecols=[0] )\n",
    "dt.columns = ['text_tokens']\n",
    "dt['id']   = np.arange( df.shape[0]+dv.shape[0], df.shape[0]+dv.shape[0]+dt.shape[0] )\n",
    "dt['id']   = dt['id'].astype(np.uint32)\n",
    "gc.collect()\n",
    "dt.head()"
   ]
  },
  {
   "cell_type": "code",
   "execution_count": 6,
   "metadata": {},
   "outputs": [
    {
     "data": {
      "application/vnd.jupyter.widget-view+json": {
       "model_id": "653def441cb54f79a14061c5e9d17e20",
       "version_major": 2,
       "version_minor": 0
      },
      "text/plain": [
       "HBox(children=(FloatProgress(value=0.0, max=96600391.0), HTML(value='')))"
      ]
     },
     "metadata": {},
     "output_type": "display_data"
    },
    {
     "name": "stdout",
     "output_type": "stream",
     "text": [
      "\n",
      "CPU times: user 1h 32min 12s, sys: 3min 49s, total: 1h 36min 2s\n",
      "Wall time: 1h 35min 11s\n"
     ]
    },
    {
     "data": {
      "text/plain": [
       "23"
      ]
     },
     "execution_count": 6,
     "metadata": {},
     "output_type": "execute_result"
    }
   ],
   "source": [
    "%%time\n",
    "df['tweet'] = [ tokenizer.decode( [ int(n) for n in t.split('\\t') ] ) for t in tqdm(df.text_tokens.values) ] \n",
    "gc.collect()"
   ]
  },
  {
   "cell_type": "code",
   "execution_count": 7,
   "metadata": {},
   "outputs": [
    {
     "data": {
      "application/vnd.jupyter.widget-view+json": {
       "model_id": "73d1fcd56372407cb43aaae702e219df",
       "version_major": 2,
       "version_minor": 0
      },
      "text/plain": [
       "HBox(children=(FloatProgress(value=0.0, max=9943301.0), HTML(value='')))"
      ]
     },
     "metadata": {},
     "output_type": "display_data"
    },
    {
     "name": "stdout",
     "output_type": "stream",
     "text": [
      "\n",
      "CPU times: user 9min 19s, sys: 21.7 s, total: 9min 41s\n",
      "Wall time: 9min 37s\n"
     ]
    },
    {
     "data": {
      "text/plain": [
       "23"
      ]
     },
     "execution_count": 7,
     "metadata": {},
     "output_type": "execute_result"
    }
   ],
   "source": [
    "%%time\n",
    "dv['tweet'] = [ tokenizer.decode( [ int(n) for n in t.split('\\t') ] ) for t in tqdm(dv.text_tokens.values) ] \n",
    "gc.collect()"
   ]
  },
  {
   "cell_type": "code",
   "execution_count": 8,
   "metadata": {},
   "outputs": [
    {
     "data": {
      "application/vnd.jupyter.widget-view+json": {
       "model_id": "2c1fcd72305a43b0871e8d2ed516fe14",
       "version_major": 2,
       "version_minor": 0
      },
      "text/plain": [
       "HBox(children=(FloatProgress(value=0.0, max=9941988.0), HTML(value='')))"
      ]
     },
     "metadata": {},
     "output_type": "display_data"
    },
    {
     "name": "stdout",
     "output_type": "stream",
     "text": [
      "\n",
      "CPU times: user 9min 19s, sys: 21.6 s, total: 9min 40s\n",
      "Wall time: 9min 35s\n"
     ]
    },
    {
     "data": {
      "text/plain": [
       "23"
      ]
     },
     "execution_count": 8,
     "metadata": {},
     "output_type": "execute_result"
    }
   ],
   "source": [
    "%%time\n",
    "dt['tweet'] = [ tokenizer.decode( [ int(n) for n in t.split('\\t') ] ) for t in tqdm(dt.text_tokens.values) ] \n",
    "gc.collect()"
   ]
  },
  {
   "cell_type": "code",
   "execution_count": 9,
   "metadata": {},
   "outputs": [
    {
     "name": "stdout",
     "output_type": "stream",
     "text": [
      "CPU times: user 4min 23s, sys: 1min 33s, total: 5min 57s\n",
      "Wall time: 5min 57s\n"
     ]
    },
    {
     "data": {
      "text/html": [
       "<div>\n",
       "<style scoped>\n",
       "    .dataframe tbody tr th:only-of-type {\n",
       "        vertical-align: middle;\n",
       "    }\n",
       "\n",
       "    .dataframe tbody tr th {\n",
       "        vertical-align: top;\n",
       "    }\n",
       "\n",
       "    .dataframe thead th {\n",
       "        text-align: right;\n",
       "    }\n",
       "</style>\n",
       "<table border=\"1\" class=\"dataframe\">\n",
       "  <thead>\n",
       "    <tr style=\"text-align: right;\">\n",
       "      <th></th>\n",
       "      <th>text_tokens</th>\n",
       "      <th>id</th>\n",
       "      <th>tweet</th>\n",
       "    </tr>\n",
       "  </thead>\n",
       "  <tbody>\n",
       "    <tr>\n",
       "      <th>0</th>\n",
       "      <td>101\\t60104\\t112\\t187\\t29522\\t12174\\t10347\\t348...</td>\n",
       "      <td>0</td>\n",
       "      <td>[CLS] Mirage's Ultimate could be getting chang...</td>\n",
       "    </tr>\n",
       "    <tr>\n",
       "      <th>1</th>\n",
       "      <td>101\\t16202\\t15853\\t23886\\t10291\\t11670\\t88237\\...</td>\n",
       "      <td>1</td>\n",
       "      <td>[CLS] Dat zou thuis niet misstaan @deBijenkorf...</td>\n",
       "    </tr>\n",
       "    <tr>\n",
       "      <th>2</th>\n",
       "      <td>101\\t62338\\t17502\\t94028\\t10126\\t100448\\t10954...</td>\n",
       "      <td>2</td>\n",
       "      <td>[CLS] Belajar naik sepeda aja kita terjatuh, t...</td>\n",
       "    </tr>\n",
       "    <tr>\n",
       "      <th>3</th>\n",
       "      <td>101\\t56898\\t137\\t91729\\t50784\\t77966\\t11373\\t1...</td>\n",
       "      <td>3</td>\n",
       "      <td>[CLS] RT @iamchie019 : Dara.. Dara.. Beautiful...</td>\n",
       "    </tr>\n",
       "    <tr>\n",
       "      <th>4</th>\n",
       "      <td>101\\t56898\\t137\\t32718\\t11447\\t19584\\t10112\\t1...</td>\n",
       "      <td>4</td>\n",
       "      <td>[CLS] RT @JoyGwene : [UNK]. @ion @jugsjugsjugs...</td>\n",
       "    </tr>\n",
       "  </tbody>\n",
       "</table>\n",
       "</div>"
      ],
      "text/plain": [
       "                                         text_tokens  id  \\\n",
       "0  101\\t60104\\t112\\t187\\t29522\\t12174\\t10347\\t348...   0   \n",
       "1  101\\t16202\\t15853\\t23886\\t10291\\t11670\\t88237\\...   1   \n",
       "2  101\\t62338\\t17502\\t94028\\t10126\\t100448\\t10954...   2   \n",
       "3  101\\t56898\\t137\\t91729\\t50784\\t77966\\t11373\\t1...   3   \n",
       "4  101\\t56898\\t137\\t32718\\t11447\\t19584\\t10112\\t1...   4   \n",
       "\n",
       "                                               tweet  \n",
       "0  [CLS] Mirage's Ultimate could be getting chang...  \n",
       "1  [CLS] Dat zou thuis niet misstaan @deBijenkorf...  \n",
       "2  [CLS] Belajar naik sepeda aja kita terjatuh, t...  \n",
       "3  [CLS] RT @iamchie019 : Dara.. Dara.. Beautiful...  \n",
       "4  [CLS] RT @JoyGwene : [UNK]. @ion @jugsjugsjugs...  "
      ]
     },
     "execution_count": 9,
     "metadata": {},
     "output_type": "execute_result"
    }
   ],
   "source": [
    "%%time\n",
    "\n",
    "df['tweet'] = df['tweet'].apply( lambda x: x.replace('https : / / t. co / ', 'https://t.co/') )\n",
    "df['tweet'] = df['tweet'].apply( lambda x: x.replace('@ ', '@') )\n",
    "df.head()"
   ]
  },
  {
   "cell_type": "code",
   "execution_count": 10,
   "metadata": {},
   "outputs": [
    {
     "name": "stdout",
     "output_type": "stream",
     "text": [
      "CPU times: user 30.2 s, sys: 1.89 s, total: 32.1 s\n",
      "Wall time: 32.1 s\n"
     ]
    },
    {
     "data": {
      "text/html": [
       "<div>\n",
       "<style scoped>\n",
       "    .dataframe tbody tr th:only-of-type {\n",
       "        vertical-align: middle;\n",
       "    }\n",
       "\n",
       "    .dataframe tbody tr th {\n",
       "        vertical-align: top;\n",
       "    }\n",
       "\n",
       "    .dataframe thead th {\n",
       "        text-align: right;\n",
       "    }\n",
       "</style>\n",
       "<table border=\"1\" class=\"dataframe\">\n",
       "  <thead>\n",
       "    <tr style=\"text-align: right;\">\n",
       "      <th></th>\n",
       "      <th>text_tokens</th>\n",
       "      <th>id</th>\n",
       "      <th>tweet</th>\n",
       "    </tr>\n",
       "  </thead>\n",
       "  <tbody>\n",
       "    <tr>\n",
       "      <th>0</th>\n",
       "      <td>101\\t10117\\t140\\t119\\t142\\t119\\t152\\t119\\t1010...</td>\n",
       "      <td>96600391</td>\n",
       "      <td>[CLS] The C. E. O. of Acronym, the tech consul...</td>\n",
       "    </tr>\n",
       "    <tr>\n",
       "      <th>1</th>\n",
       "      <td>101\\t10105\\t10817\\t10124\\t59232\\t18121\\t15629\\...</td>\n",
       "      <td>96600392</td>\n",
       "      <td>[CLS] the man is literally barking.. [SEP]</td>\n",
       "    </tr>\n",
       "    <tr>\n",
       "      <th>2</th>\n",
       "      <td>101\\t48561\\t10116\\t67737\\t18554\\t36371\\t10989\\...</td>\n",
       "      <td>96600393</td>\n",
       "      <td>[CLS] Usai juara dunia enam tahun lalu, timnas...</td>\n",
       "    </tr>\n",
       "    <tr>\n",
       "      <th>3</th>\n",
       "      <td>101\\t100055\\t69940\\t10414\\t159\\t11305\\t11166\\t...</td>\n",
       "      <td>96600394</td>\n",
       "      <td>[CLS] Här hör ni V75 - podden med Niclas och E...</td>\n",
       "    </tr>\n",
       "    <tr>\n",
       "      <th>4</th>\n",
       "      <td>101\\t62154\\t32221\\t71843\\t10143\\t10237\\t15507\\...</td>\n",
       "      <td>96600395</td>\n",
       "      <td>[CLS] Bursa trfr dah ditutup, lo ngapain @juve...</td>\n",
       "    </tr>\n",
       "  </tbody>\n",
       "</table>\n",
       "</div>"
      ],
      "text/plain": [
       "                                         text_tokens        id  \\\n",
       "0  101\\t10117\\t140\\t119\\t142\\t119\\t152\\t119\\t1010...  96600391   \n",
       "1  101\\t10105\\t10817\\t10124\\t59232\\t18121\\t15629\\...  96600392   \n",
       "2  101\\t48561\\t10116\\t67737\\t18554\\t36371\\t10989\\...  96600393   \n",
       "3  101\\t100055\\t69940\\t10414\\t159\\t11305\\t11166\\t...  96600394   \n",
       "4  101\\t62154\\t32221\\t71843\\t10143\\t10237\\t15507\\...  96600395   \n",
       "\n",
       "                                               tweet  \n",
       "0  [CLS] The C. E. O. of Acronym, the tech consul...  \n",
       "1         [CLS] the man is literally barking.. [SEP]  \n",
       "2  [CLS] Usai juara dunia enam tahun lalu, timnas...  \n",
       "3  [CLS] Här hör ni V75 - podden med Niclas och E...  \n",
       "4  [CLS] Bursa trfr dah ditutup, lo ngapain @juve...  "
      ]
     },
     "execution_count": 10,
     "metadata": {},
     "output_type": "execute_result"
    }
   ],
   "source": [
    "%%time\n",
    "dv['tweet'] = dv['tweet'].apply( lambda x: x.replace('https : / / t. co / ', 'https://t.co/') )\n",
    "dv['tweet'] = dv['tweet'].apply( lambda x: x.replace('@ ', '@') )\n",
    "dv.head()"
   ]
  },
  {
   "cell_type": "code",
   "execution_count": 11,
   "metadata": {},
   "outputs": [
    {
     "name": "stdout",
     "output_type": "stream",
     "text": [
      "CPU times: user 31.6 s, sys: 5.17 s, total: 36.8 s\n",
      "Wall time: 36.8 s\n"
     ]
    },
    {
     "data": {
      "text/html": [
       "<div>\n",
       "<style scoped>\n",
       "    .dataframe tbody tr th:only-of-type {\n",
       "        vertical-align: middle;\n",
       "    }\n",
       "\n",
       "    .dataframe tbody tr th {\n",
       "        vertical-align: top;\n",
       "    }\n",
       "\n",
       "    .dataframe thead th {\n",
       "        text-align: right;\n",
       "    }\n",
       "</style>\n",
       "<table border=\"1\" class=\"dataframe\">\n",
       "  <thead>\n",
       "    <tr style=\"text-align: right;\">\n",
       "      <th></th>\n",
       "      <th>text_tokens</th>\n",
       "      <th>id</th>\n",
       "      <th>tweet</th>\n",
       "    </tr>\n",
       "  </thead>\n",
       "  <tbody>\n",
       "    <tr>\n",
       "      <th>0</th>\n",
       "      <td>101\\t3100\\t5477\\t3028\\t4348\\t1924\\t111806\\t186...</td>\n",
       "      <td>106543692</td>\n",
       "      <td>[CLS] 埼 玉 土 日 じゃん ！. 行 けないこともないか... ？ [UNK]. え...</td>\n",
       "    </tr>\n",
       "    <tr>\n",
       "      <th>1</th>\n",
       "      <td>101\\t56898\\t137\\t36110\\t10400\\t168\\t64062\\t131...</td>\n",
       "      <td>106543693</td>\n",
       "      <td>[CLS] RT @meanie _ ark : いいね ・ RTでそれぞれポイントになるみ...</td>\n",
       "    </tr>\n",
       "    <tr>\n",
       "      <th>2</th>\n",
       "      <td>101\\t10117\\t23672\\t12610\\t86532\\t11205\\t90138\\...</td>\n",
       "      <td>106543694</td>\n",
       "      <td>[CLS] The Evolution Of Adidas Predators ( via ...</td>\n",
       "    </tr>\n",
       "    <tr>\n",
       "      <th>3</th>\n",
       "      <td>101\\t13690\\t14372\\t119\\t119\\t19281\\t25444\\t984...</td>\n",
       "      <td>106543695</td>\n",
       "      <td>[CLS] Special edition.. Democratic Kampuchea. ...</td>\n",
       "    </tr>\n",
       "    <tr>\n",
       "      <th>4</th>\n",
       "      <td>101\\t56898\\t137\\t171\\t64791\\t168\\t11499\\t10330...</td>\n",
       "      <td>106543696</td>\n",
       "      <td>[CLS] RT @click _ burgundy : ＃ 一 日 一 描 ＃ ミンサガ ...</td>\n",
       "    </tr>\n",
       "  </tbody>\n",
       "</table>\n",
       "</div>"
      ],
      "text/plain": [
       "                                         text_tokens         id  \\\n",
       "0  101\\t3100\\t5477\\t3028\\t4348\\t1924\\t111806\\t186...  106543692   \n",
       "1  101\\t56898\\t137\\t36110\\t10400\\t168\\t64062\\t131...  106543693   \n",
       "2  101\\t10117\\t23672\\t12610\\t86532\\t11205\\t90138\\...  106543694   \n",
       "3  101\\t13690\\t14372\\t119\\t119\\t19281\\t25444\\t984...  106543695   \n",
       "4  101\\t56898\\t137\\t171\\t64791\\t168\\t11499\\t10330...  106543696   \n",
       "\n",
       "                                               tweet  \n",
       "0  [CLS] 埼 玉 土 日 じゃん ！. 行 けないこともないか... ？ [UNK]. え...  \n",
       "1  [CLS] RT @meanie _ ark : いいね ・ RTでそれぞれポイントになるみ...  \n",
       "2  [CLS] The Evolution Of Adidas Predators ( via ...  \n",
       "3  [CLS] Special edition.. Democratic Kampuchea. ...  \n",
       "4  [CLS] RT @click _ burgundy : ＃ 一 日 一 描 ＃ ミンサガ ...  "
      ]
     },
     "execution_count": 11,
     "metadata": {},
     "output_type": "execute_result"
    }
   ],
   "source": [
    "%%time\n",
    "dt['tweet'] = dt['tweet'].apply( lambda x: x.replace('https : / / t. co / ', 'https://t.co/') )\n",
    "dt['tweet'] = dt['tweet'].apply( lambda x: x.replace('@ ', '@') )\n",
    "\n",
    "dt.head()"
   ]
  },
  {
   "cell_type": "code",
   "execution_count": 12,
   "metadata": {},
   "outputs": [],
   "source": [
    "df.to_parquet( '/mnt/DP_disk3/Recsys/train-tweet-1.parquet' )\n",
    "dv.to_parquet( '/mnt/DP_disk3/Recsys/test0-tweet-1.parquet' )\n",
    "dt.to_parquet( '/mnt/DP_disk3/Recsys/test1-tweet-1.parquet' )"
   ]
  },
  {
   "cell_type": "code",
   "execution_count": 13,
   "metadata": {},
   "outputs": [
    {
     "name": "stdout",
     "output_type": "stream",
     "text": [
      "3rd notebook total process time 2:19:02.096827\n"
     ]
    }
   ],
   "source": [
    "time_end = datetime.now()\n",
    "\n",
    "print(\"3rd notebook total process time\", time_end - time_begin)"
   ]
  },
  {
   "cell_type": "code",
   "execution_count": 14,
   "metadata": {},
   "outputs": [
    {
     "data": {
      "text/html": [
       "<div>\n",
       "<style scoped>\n",
       "    .dataframe tbody tr th:only-of-type {\n",
       "        vertical-align: middle;\n",
       "    }\n",
       "\n",
       "    .dataframe tbody tr th {\n",
       "        vertical-align: top;\n",
       "    }\n",
       "\n",
       "    .dataframe thead th {\n",
       "        text-align: right;\n",
       "    }\n",
       "</style>\n",
       "<table border=\"1\" class=\"dataframe\">\n",
       "  <thead>\n",
       "    <tr style=\"text-align: right;\">\n",
       "      <th></th>\n",
       "      <th>text_tokens</th>\n",
       "      <th>id</th>\n",
       "      <th>tweet</th>\n",
       "    </tr>\n",
       "  </thead>\n",
       "  <tbody>\n",
       "    <tr>\n",
       "      <th>0</th>\n",
       "      <td>101\\t10117\\t140\\t119\\t142\\t119\\t152\\t119\\t1010...</td>\n",
       "      <td>96600391</td>\n",
       "      <td>[CLS] The C. E. O. of Acronym, the tech consul...</td>\n",
       "    </tr>\n",
       "    <tr>\n",
       "      <th>1</th>\n",
       "      <td>101\\t10105\\t10817\\t10124\\t59232\\t18121\\t15629\\...</td>\n",
       "      <td>96600392</td>\n",
       "      <td>[CLS] the man is literally barking.. [SEP]</td>\n",
       "    </tr>\n",
       "    <tr>\n",
       "      <th>2</th>\n",
       "      <td>101\\t48561\\t10116\\t67737\\t18554\\t36371\\t10989\\...</td>\n",
       "      <td>96600393</td>\n",
       "      <td>[CLS] Usai juara dunia enam tahun lalu, timnas...</td>\n",
       "    </tr>\n",
       "    <tr>\n",
       "      <th>3</th>\n",
       "      <td>101\\t100055\\t69940\\t10414\\t159\\t11305\\t11166\\t...</td>\n",
       "      <td>96600394</td>\n",
       "      <td>[CLS] Här hör ni V75 - podden med Niclas och E...</td>\n",
       "    </tr>\n",
       "    <tr>\n",
       "      <th>4</th>\n",
       "      <td>101\\t62154\\t32221\\t71843\\t10143\\t10237\\t15507\\...</td>\n",
       "      <td>96600395</td>\n",
       "      <td>[CLS] Bursa trfr dah ditutup, lo ngapain @juve...</td>\n",
       "    </tr>\n",
       "    <tr>\n",
       "      <th>...</th>\n",
       "      <td>...</td>\n",
       "      <td>...</td>\n",
       "      <td>...</td>\n",
       "    </tr>\n",
       "    <tr>\n",
       "      <th>9943296</th>\n",
       "      <td>101\\t56898\\t137\\t44531\\t11517\\t12730\\t10465\\t1...</td>\n",
       "      <td>106543687</td>\n",
       "      <td>[CLS] RT @AuschwitzMuseum : 31 January 1931 | ...</td>\n",
       "    </tr>\n",
       "    <tr>\n",
       "      <th>9943297</th>\n",
       "      <td>101\\t56898\\t137\\t10911\\t17750\\t37263\\t10161\\t1...</td>\n",
       "      <td>106543688</td>\n",
       "      <td>[CLS] RT @meyerlegal : Franca Werhahn @meyerle...</td>\n",
       "    </tr>\n",
       "    <tr>\n",
       "      <th>9943298</th>\n",
       "      <td>101\\t56898\\t137\\t12187\\t10245\\t11517\\t10157\\t1...</td>\n",
       "      <td>106543689</td>\n",
       "      <td>[CLS] RT @99inMyMind : 200205 HBD TO [UNK]. [U...</td>\n",
       "    </tr>\n",
       "    <tr>\n",
       "      <th>9943299</th>\n",
       "      <td>101\\t100\\t12976\\t100\\t187\\t10105\\t10992\\t12452...</td>\n",
       "      <td>106543690</td>\n",
       "      <td>[CLS] [UNK] what [UNK] s the most important th...</td>\n",
       "    </tr>\n",
       "    <tr>\n",
       "      <th>9943300</th>\n",
       "      <td>101\\t56898\\t137\\t72337\\t11369\\t13321\\t13966\\t2...</td>\n",
       "      <td>106543691</td>\n",
       "      <td>[CLS] RT @RepLeeZeldin : Devin Nunes is a warr...</td>\n",
       "    </tr>\n",
       "  </tbody>\n",
       "</table>\n",
       "<p>9943301 rows × 3 columns</p>\n",
       "</div>"
      ],
      "text/plain": [
       "                                               text_tokens         id  \\\n",
       "0        101\\t10117\\t140\\t119\\t142\\t119\\t152\\t119\\t1010...   96600391   \n",
       "1        101\\t10105\\t10817\\t10124\\t59232\\t18121\\t15629\\...   96600392   \n",
       "2        101\\t48561\\t10116\\t67737\\t18554\\t36371\\t10989\\...   96600393   \n",
       "3        101\\t100055\\t69940\\t10414\\t159\\t11305\\t11166\\t...   96600394   \n",
       "4        101\\t62154\\t32221\\t71843\\t10143\\t10237\\t15507\\...   96600395   \n",
       "...                                                    ...        ...   \n",
       "9943296  101\\t56898\\t137\\t44531\\t11517\\t12730\\t10465\\t1...  106543687   \n",
       "9943297  101\\t56898\\t137\\t10911\\t17750\\t37263\\t10161\\t1...  106543688   \n",
       "9943298  101\\t56898\\t137\\t12187\\t10245\\t11517\\t10157\\t1...  106543689   \n",
       "9943299  101\\t100\\t12976\\t100\\t187\\t10105\\t10992\\t12452...  106543690   \n",
       "9943300  101\\t56898\\t137\\t72337\\t11369\\t13321\\t13966\\t2...  106543691   \n",
       "\n",
       "                                                     tweet  \n",
       "0        [CLS] The C. E. O. of Acronym, the tech consul...  \n",
       "1               [CLS] the man is literally barking.. [SEP]  \n",
       "2        [CLS] Usai juara dunia enam tahun lalu, timnas...  \n",
       "3        [CLS] Här hör ni V75 - podden med Niclas och E...  \n",
       "4        [CLS] Bursa trfr dah ditutup, lo ngapain @juve...  \n",
       "...                                                    ...  \n",
       "9943296  [CLS] RT @AuschwitzMuseum : 31 January 1931 | ...  \n",
       "9943297  [CLS] RT @meyerlegal : Franca Werhahn @meyerle...  \n",
       "9943298  [CLS] RT @99inMyMind : 200205 HBD TO [UNK]. [U...  \n",
       "9943299  [CLS] [UNK] what [UNK] s the most important th...  \n",
       "9943300  [CLS] RT @RepLeeZeldin : Devin Nunes is a warr...  \n",
       "\n",
       "[9943301 rows x 3 columns]"
      ]
     },
     "execution_count": 14,
     "metadata": {},
     "output_type": "execute_result"
    }
   ],
   "source": [
    "dv"
   ]
  },
  {
   "cell_type": "code",
   "execution_count": null,
   "metadata": {},
   "outputs": [],
   "source": []
  }
 ],
 "metadata": {
  "kernelspec": {
   "display_name": "Python 3",
   "language": "python",
   "name": "python3"
  },
  "language_info": {
   "codemirror_mode": {
    "name": "ipython",
    "version": 3
   },
   "file_extension": ".py",
   "mimetype": "text/x-python",
   "name": "python",
   "nbconvert_exporter": "python",
   "pygments_lexer": "ipython3",
   "version": "3.7.4"
  }
 },
 "nbformat": 4,
 "nbformat_minor": 4
}
