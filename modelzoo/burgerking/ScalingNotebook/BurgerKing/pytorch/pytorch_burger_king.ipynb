{
 "cells": [
  {
   "cell_type": "markdown",
   "metadata": {},
   "source": [
    "# Pytorch Single Node BurgerKing"
   ]
  },
  {
   "cell_type": "code",
   "execution_count": 1,
   "metadata": {},
   "outputs": [],
   "source": [
    "import configargparse\n",
    "import argparse\n",
    "import os\n",
    "\n",
    "import torch\n",
    "import torch.nn as nn\n",
    "import torch.nn.functional as F\n",
    "import pandas as pd\n",
    "import numpy as np\n",
    "import logging\n",
    "from torch.autograd import Variable\n",
    "from torch.utils.data import TensorDataset, DataLoader\n",
    "from torch.utils.data import Dataset\n",
    "from torch.utils.data.sampler import SubsetRandomSampler\n",
    "from datetime import datetime\n",
    "from sklearn.model_selection import train_test_split\n",
    "import time"
   ]
  },
  {
   "cell_type": "markdown",
   "metadata": {},
   "source": [
    "## Configuration"
   ]
  },
  {
   "cell_type": "code",
   "execution_count": 2,
   "metadata": {},
   "outputs": [],
   "source": [
    "p = configargparse.ArgParser(default_config_files=['../conf/burgerking.conf'])\n",
    "p.add_argument(\"--data-prefix\", type=lambda x: os.path.abspath(x))\n",
    "options, _ = p.parse_known_args()\n",
    "batch_size = 16000\n",
    "num_epoch = 5"
   ]
  },
  {
   "cell_type": "markdown",
   "metadata": {},
   "source": [
    "## Data Preparation"
   ]
  },
  {
   "cell_type": "code",
   "execution_count": 3,
   "metadata": {},
   "outputs": [
    {
     "name": "stderr",
     "output_type": "stream",
     "text": [
      "/home/bluewhale/Bluewhale/tools/venv/envs/bluewhale/lib/python3.7/site-packages/torch/cuda/__init__.py:52: UserWarning: CUDA initialization: Found no NVIDIA driver on your system. Please check that you have an NVIDIA GPU and installed a driver from http://www.nvidia.com/Download/index.aspx (Triggered internally at  /pytorch/c10/cuda/CUDAFunctions.cpp:100.)\n",
      "  return torch._C._cuda_getDeviceCount() > 0\n"
     ]
    },
    {
     "name": "stdout",
     "output_type": "stream",
     "text": [
      "load data time: 0.70s\n"
     ]
    }
   ],
   "source": [
    "logger = logging.getLogger()\n",
    "logger.setLevel(logging.DEBUG)\n",
    "logging.basicConfig(filename='./drivethru_log',level=logging.DEBUG)\n",
    "prefix=options.data_prefix\n",
    "\n",
    "device = torch.device('cuda' if torch.cuda.is_available() else 'cpu')\n",
    "\n",
    "start = time.time()\n",
    "df_list = []\n",
    "for num in range(0,6):\n",
    "    df = pd.read_json(os.path.join(prefix, f\"{num}.json\"), orient='columns', lines=True)\n",
    "    df_list.append(df)\n",
    "\n",
    "raw_data = pd.concat(df_list)\n",
    "\n",
    "end = time.time()\n",
    "load_data_time = end - start\n",
    "print(f\"load data time: {load_data_time:.2f}s\")"
   ]
  },
  {
   "cell_type": "code",
   "execution_count": 4,
   "metadata": {},
   "outputs": [
    {
     "name": "stdout",
     "output_type": "stream",
     "text": [
      "split data time: 0.01s\n"
     ]
    }
   ],
   "source": [
    "start = end\n",
    "data, test = train_test_split(raw_data, test_size=0.001, random_state=100)\n",
    "end = time.time()\n",
    "split_data_time = end - start\n",
    "print(f\"split data time: {split_data_time:.2f}s\")"
   ]
  },
  {
   "cell_type": "code",
   "execution_count": 5,
   "metadata": {},
   "outputs": [],
   "source": [
    "n_plus = 522\n",
    "n_time = 167\n",
    "n_bkids = 126\n",
    "n_weather = 35\n",
    "n_feels = 20\n",
    "\n",
    "data = data[[\"pluids\", \"timeidx\", \"bkidx\", \"weatheridx\", \"feelsBucket\", \"label\"]]\n",
    "train_tensors = [\n",
    "    torch.LongTensor(data['pluids'].tolist()),\n",
    "    torch.tensor(data[[\"timeidx\"]].values),\n",
    "    torch.tensor(data[[\"bkidx\"]].values),\n",
    "    torch.tensor(data[[\"weatheridx\"]].values),\n",
    "    torch.tensor(data[[\"feelsBucket\"]].values),\n",
    "    torch.tensor(data[[\"label\"]].values),\n",
    "]\n",
    "train_dataset = TensorDataset(*train_tensors)\n",
    "train_loader = torch.utils.data.DataLoader(dataset=train_dataset,batch_size=batch_size,shuffle=True)"
   ]
  },
  {
   "cell_type": "markdown",
   "metadata": {},
   "source": [
    "## Model Definition"
   ]
  },
  {
   "cell_type": "code",
   "execution_count": 6,
   "metadata": {},
   "outputs": [],
   "source": [
    "# Bidirectional recurrent neural network (many-to-one)\n",
    "\n",
    "# below is model is built following MXNet's example \n",
    "class BiRNN(nn.Module):\n",
    "    def __init__(self, input_size, hidden_size, num_layers,fcn_input_size,fcn_output_size):\n",
    "        super(BiRNN, self).__init__()\n",
    "        self.hidden_size = hidden_size\n",
    "        self.num_layers = num_layers\n",
    "        \n",
    "        self.embeds_pluids = nn.Embedding(n_plus, 50)\n",
    "        self.embeds_bkidx = nn.Embedding(n_bkids, 100)\n",
    "        self.embeds_timeidx = nn.Embedding(n_time, 100)\n",
    "        self.embeds_feelsBucket = nn.Embedding(n_feels, 100)\n",
    "        self.embeds_weather = nn.Embedding(n_weather, 100)\n",
    "        \n",
    "        self.gru = nn.GRU(input_size, hidden_size, num_layers, batch_first=True, bidirectional=True)\n",
    "        \n",
    "        self.hidden1 = nn.Linear(100,100)\n",
    "        self.hidden2 = nn.Linear(100,1)\n",
    "        \n",
    "        self.flatten=nn.Flatten()\n",
    "        \n",
    "        self.fcn_input_size=fcn_input_size\n",
    "        self.fcn_output_size=fcn_output_size\n",
    "        \n",
    "        self.drop_layer=nn.Dropout(p=0.3)\n",
    "        self.fc=nn.Linear(fcn_input_size,fcn_output_size)\n",
    "        \n",
    "    def forward(self, x):\n",
    "\n",
    "        # Set initial states\n",
    "        pluids, timeidx, bkidx, weatheridx, feelsBucket = x\n",
    "        plu_embed = self.embeds_pluids(pluids.type(torch.LongTensor)).squeeze()\n",
    "        bkidx_embed = self.embeds_bkidx(bkidx.type(torch.LongTensor)).squeeze()\n",
    "        time_embed = self.embeds_timeidx(timeidx.type(torch.LongTensor)).squeeze()\n",
    "        weather_embed = self.embeds_weather(weatheridx.type(torch.LongTensor)).squeeze()\n",
    "        feels_embed = self.embeds_feelsBucket(feelsBucket.type(torch.LongTensor)).squeeze()\n",
    "        \n",
    "        x=plu_embed\n",
    "        h0 = torch.zeros(self.num_layers*2, x.size(0), self.hidden_size) # 2 for bidirection \n",
    "\n",
    "        # Forward propagate gru\n",
    "        gru_out, _ = self.gru(x, h0)\n",
    "        ut = torch.tanh(self.hidden1(gru_out))\n",
    "        et = self.hidden2(ut)\n",
    "        att = F.softmax(torch.transpose(et, 2, 1), dim=-1)\n",
    "        output= torch.matmul(att, gru_out)\n",
    "        \n",
    "        #flatten the output\n",
    "        attention_output =self.flatten(output)\n",
    "        context_features=torch.mul(attention_output,(1 + bkidx_embed + time_embed + weather_embed + feels_embed))\n",
    "        ac1=F.relu(context_features)\n",
    "        dropout1=self.drop_layer(ac1)\n",
    "        output=self.fc(dropout1)\n",
    "       \n",
    "        return output"
   ]
  },
  {
   "cell_type": "markdown",
   "metadata": {},
   "source": [
    "## Train"
   ]
  },
  {
   "cell_type": "code",
   "execution_count": 7,
   "metadata": {},
   "outputs": [
    {
     "name": "stdout",
     "output_type": "stream",
     "text": [
      "total steps: 4\n",
      "Epoch: 0\t Step [0/4]\t loss: 6.281515598297119\n",
      "Epoch: 0\t Step [1/4]\t loss: 6.2771711349487305\n",
      "Epoch: 0\t Step [2/4]\t loss: 6.275762557983398\n",
      "Epoch: 0\t Step [3/4]\t loss: 6.272086143493652\n",
      "Epoch time: 2.93s\n",
      "Epoch: 1\t Step [0/4]\t loss: 6.241789817810059\n",
      "Epoch: 1\t Step [1/4]\t loss: 6.244365215301514\n",
      "Epoch: 1\t Step [2/4]\t loss: 6.242772102355957\n",
      "Epoch: 1\t Step [3/4]\t loss: 6.2448296546936035\n",
      "Epoch time: 2.57s\n",
      "Epoch: 2\t Step [0/4]\t loss: 6.2250142097473145\n",
      "Epoch: 2\t Step [1/4]\t loss: 6.2265944480896\n",
      "Epoch: 2\t Step [2/4]\t loss: 6.228211879730225\n",
      "Epoch: 2\t Step [3/4]\t loss: 6.22718620300293\n",
      "Epoch time: 2.78s\n",
      "Epoch: 3\t Step [0/4]\t loss: 6.211803913116455\n",
      "Epoch: 3\t Step [1/4]\t loss: 6.212457180023193\n",
      "Epoch: 3\t Step [2/4]\t loss: 6.213179588317871\n",
      "Epoch: 3\t Step [3/4]\t loss: 6.213676452636719\n",
      "Epoch time: 2.40s\n",
      "Epoch: 4\t Step [0/4]\t loss: 6.199793338775635\n",
      "Epoch: 4\t Step [1/4]\t loss: 6.198092937469482\n",
      "Epoch: 4\t Step [2/4]\t loss: 6.199916839599609\n",
      "Epoch: 4\t Step [3/4]\t loss: 6.205125331878662\n",
      "Epoch time: 2.71s\n",
      "model train time: 13.38\n"
     ]
    }
   ],
   "source": [
    "model=BiRNN(50, 50, 1,100,522).to(device)\n",
    "learning_rate=0.01\n",
    "\n",
    "criterion = nn.CrossEntropyLoss()\n",
    "\n",
    "optimizer = torch.optim.Adagrad(model.parameters(), lr=learning_rate)\n",
    "\n",
    "\n",
    "start = time.time() \n",
    "print(f\"total steps: {len(train_loader)}\")\n",
    "\n",
    "for epoch in range(num_epoch):\n",
    "    epoch_start = time.time()\n",
    "    for batchidx, batch in enumerate(train_loader):    \n",
    "        \n",
    "        x, label = batch[:-1], batch[-1].squeeze()\n",
    "        output = model(x)        \n",
    "        loss = criterion(output, label)\n",
    "        \n",
    "        # Backward and optimize\n",
    "        optimizer.zero_grad()\n",
    "\n",
    "        loss.backward()\n",
    "        optimizer.step()\n",
    "        print(f'Epoch: {epoch}\\t Step [{batchidx}/{len(train_loader)}]\\t loss: {loss.item()}')\n",
    "        \n",
    "    epoch_end = time.time()\n",
    "    \n",
    "    print(f\"Epoch time: {epoch_end - epoch_start:.2f}s\")\n",
    "    \n",
    "end = time.time()\n",
    "train_time = end - start\n",
    "\n",
    "print(f\"model train time: {train_time:.2f}\")"
   ]
  },
  {
   "cell_type": "markdown",
   "metadata": {},
   "source": [
    "## Eval"
   ]
  },
  {
   "cell_type": "code",
   "execution_count": 8,
   "metadata": {},
   "outputs": [],
   "source": [
    "test_df_list = []\n",
    "for num in range(1,3):\n",
    "    df = pd.read_json(os.path.join(prefix, f\"{num}.json\"), orient='columns', lines=True)\n",
    "    test_df_list.append(df)\n",
    "\n",
    "test_data = pd.concat(test_df_list)\n",
    "test_data = test_data[[\"pluids\", \"timeidx\", \"bkidx\", \"weatheridx\", \"feelsBucket\", \"label\"]]"
   ]
  },
  {
   "cell_type": "code",
   "execution_count": 9,
   "metadata": {},
   "outputs": [
    {
     "name": "stdout",
     "output_type": "stream",
     "text": [
      "Accuracy:0.62%\n"
     ]
    }
   ],
   "source": [
    "test_tensors = [\n",
    "    torch.LongTensor(test_data['pluids'].tolist()),\n",
    "    torch.tensor(test_data[[\"timeidx\"]].values),\n",
    "    torch.tensor(test_data[[\"bkidx\"]].values),\n",
    "    torch.tensor(test_data[[\"weatheridx\"]].values),\n",
    "    torch.tensor(test_data[[\"feelsBucket\"]].values),\n",
    "    torch.tensor(test_data[[\"label\"]].values),\n",
    "]\n",
    "\n",
    "test_dataset=TensorDataset(*test_tensors)\n",
    "test_loader = torch.utils.data.DataLoader(dataset=test_dataset, batch_size=batch_size, shuffle=True)\n",
    "                               \n",
    "        \n",
    "correct=0\n",
    "total = 0\n",
    "for batchidx, batch in enumerate(test_loader):    \n",
    "           \n",
    "        x, label = batch[:-1], batch[-1]\n",
    "        prediction=model(x)\n",
    "        \n",
    "        prediction = prediction.argmax(dim=1)\n",
    "        correct+=(prediction==label.flatten()).sum().float()\n",
    "        total += len(label)\n",
    "\n",
    "print(f\"Accuracy:{(correct/total).cpu().detach().data * 100:.2f}%\")"
   ]
  }
 ],
 "metadata": {
  "kernelspec": {
   "display_name": "Python 3",
   "language": "python",
   "name": "python3"
  },
  "language_info": {
   "codemirror_mode": {
    "name": "ipython",
    "version": 3
   },
   "file_extension": ".py",
   "mimetype": "text/x-python",
   "name": "python",
   "nbconvert_exporter": "python",
   "pygments_lexer": "ipython3",
   "version": "3.7.7"
  }
 },
 "nbformat": 4,
 "nbformat_minor": 2
}
