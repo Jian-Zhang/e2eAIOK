{
 "cells": [
  {
   "cell_type": "code",
   "execution_count": null,
   "metadata": {},
   "outputs": [],
   "source": [
    "#!/env/bin/python\n",
    "\n",
    "import init\n",
    "\n",
    "import findspark\n",
    "findspark.init()\n",
    "\n",
    "import os\n",
    "import pandas as pd\n",
    "import numpy as np\n",
    "from pyspark.sql import *\n",
    "from pyspark import *\n",
    "import pyspark.sql.functions as f\n",
    "from timeit import default_timer as timer\n",
    "import logging\n",
    "from pyrecdp.data_processor import *\n",
    "from pyrecdp.utils import *\n",
    "from pyspark.sql.functions import pandas_udf, PandasUDFType\n",
    "\n",
    "\n",
    "def process_data(df, proc, output_name):\n",
    "    proc.spark.udf.registerJavaFunction(\"dummy\",\"com.intel.recdp.SortStringArrayByFrequency\")\n",
    "    op_feature_add = FeatureAdd(cols={'tweet': \"f.expr('dummy(text_tokens)')\"}, op='inline')\n",
    "\n",
    "    # execute\n",
    "    proc.reset_ops([op_feature_add])\n",
    "    t1 = timer()\n",
    "    df = proc.transform(df, name=output_name, df_cnt=626242930)\n",
    "    t2 = timer()\n",
    "    print(\"process_data decode took %.3f\" % (t2 - t1))\n",
    "\n",
    "    return df"
   ]
  },
  {
   "cell_type": "code",
   "execution_count": null,
   "metadata": {
    "scrolled": false
   },
   "outputs": [],
   "source": [
    "path_prefix = \"hdfs://\"\n",
    "current_path = \"/recsys2021_0608_scalaudf_test/\"\n",
    "original_folder = \"/recsys2021_0608/\"\n",
    "\n",
    "scala_udf_jars = \"/mnt/nvme2/chendi/BlueWhale/recdp/ScalaProcessUtils/target/core-0.1.0-jar-with-dependencies.jar\"\n",
    "\n",
    "##### 1. Start spark and initialize data processor #####\n",
    "t0 = timer()\n",
    "spark = SparkSession.builder.master('yarn')\\\n",
    "    .appName(\"udf_column\")\\\n",
    "    .config(\"spark.sql.broadcastTimeout\", \"7200\")\\\n",
    "    .config(\"spark.cleaner.periodicGC.interval\", \"10min\")\\\n",
    "    .config(\"spark.driver.extraClassPath\", f\"{scala_udf_jars}\")\\\n",
    "    .config(\"spark.executor.extraClassPath\", f\"{scala_udf_jars}\")\\\n",
    "    .config(\"spark.executor.memory\", \"20g\")\\\n",
    "    .config(\"spark.executor.memoryOverhead\", \"6g\")\\\n",
    "    .getOrCreate()\n",
    "\n",
    "\n",
    "# 1.1 prepare dataFrames\n",
    "# 1.2 create RecDP DataProcessor\n",
    "proc = DataProcessor(spark, path_prefix,\n",
    "                     current_path=current_path, shuffle_disk_capacity=\"1200GB\")\n",
    "spark.udf.registerJavaFunction(\"sortStringArrayByFrequency\",\"com.intel.recdp.SortStringArrayByFrequency\")\n",
    "\n",
    "df = spark.read.parquet(path_prefix + original_folder)\n",
    "\n",
    "df = df.select(\"reply_timestamp\", 'tweet_id').groupby('tweet_id').agg(f.collect_list('reply_timestamp').alias('reply_timestamp'))\n",
    "print(df.dtypes)\n",
    "df = df.withColumn('sorted_reply_timestamp', f.expr('sortStringArrayByFrequency(reply_timestamp)'))\n",
    "print(df.dtypes)\n",
    "\n",
    "df.show()\n",
    "\n",
    "# ===============================================\n",
    "# decode tweet_tokens\n",
    "#df = process_data(df, proc, output_name=\"scala_udf_test\")"
   ]
  },
  {
   "cell_type": "code",
   "execution_count": null,
   "metadata": {},
   "outputs": [],
   "source": [
    "df.show()"
   ]
  }
 ],
 "metadata": {
  "kernelspec": {
   "display_name": "Python 3",
   "language": "python",
   "name": "python3"
  },
  "language_info": {
   "codemirror_mode": {
    "name": "ipython",
    "version": 3
   },
   "file_extension": ".py",
   "mimetype": "text/x-python",
   "name": "python",
   "nbconvert_exporter": "python",
   "pygments_lexer": "ipython3",
   "version": "3.7.4"
  }
 },
 "nbformat": 4,
 "nbformat_minor": 2
}
