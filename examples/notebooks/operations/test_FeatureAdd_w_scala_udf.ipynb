{
 "cells": [
  {
   "cell_type": "code",
   "execution_count": 1,
   "metadata": {},
   "outputs": [
    {
     "name": "stdout",
     "output_type": "stream",
     "text": [
      "/mnt/nvme2/chendi/BlueWhale/recdp\n"
     ]
    }
   ],
   "source": [
    "#!/env/bin/python\n",
    "\n",
    "import init\n",
    "\n",
    "import findspark\n",
    "findspark.init()\n",
    "\n",
    "import os\n",
    "import pandas as pd\n",
    "import numpy as np\n",
    "from pyspark.sql import *\n",
    "from pyspark import *\n",
    "import pyspark.sql.functions as f\n",
    "from timeit import default_timer as timer\n",
    "import logging\n",
    "from pyrecdp.data_processor import *\n",
    "from pyrecdp.utils import *\n",
    "from pyspark.sql.functions import pandas_udf, PandasUDFType\n",
    "\n",
    "path_prefix = \"hdfs://\"\n",
    "current_path = \"/recsys2021_0608_scalaudf_test/\"\n",
    "original_folder = \"/recsys2021_0608/\"\n",
    "\n",
    "scala_udf_jars = \"/mnt/nvme2/chendi/BlueWhale/recdp/ScalaProcessUtils/target/recdp-scala-extensions-0.1.0-jar-with-dependencies.jar\"\n",
    "\n",
    "##### 1. Start spark and initialize data processor #####\n",
    "t0 = timer()\n",
    "spark = SparkSession.builder.master('yarn')\\\n",
    "    .appName(\"scala_udf_column\")\\\n",
    "    .config(\"spark.sql.broadcastTimeout\", \"7200\")\\\n",
    "    .config(\"spark.cleaner.periodicGC.interval\", \"10min\")\\\n",
    "    .config(\"spark.driver.extraClassPath\", f\"{scala_udf_jars}\")\\\n",
    "    .config(\"spark.executor.extraClassPath\", f\"{scala_udf_jars}\")\\\n",
    "    .config(\"spark.executor.memory\", \"20g\")\\\n",
    "    .config(\"spark.executor.memoryOverhead\", \"6g\")\\\n",
    "    .getOrCreate()\n",
    "\n"
   ]
  },
  {
   "cell_type": "markdown",
   "metadata": {},
   "source": [
    "### Example 1: CategorifyForArray"
   ]
  },
  {
   "cell_type": "code",
   "execution_count": 5,
   "metadata": {
    "scrolled": false
   },
   "outputs": [
    {
     "name": "stdout",
     "output_type": "stream",
     "text": [
      "Broadcast(27)\n",
      "[('hashtags', 'string'), ('hashtags_splitted', 'array<string>')]\n",
      "[('hashtags', 'string'), ('hashtags_splitted', 'array<string>'), ('hashtags_idx', 'array<int>')]\n",
      "+--------------------+--------------------+--------------------+\n",
      "|            hashtags|   hashtags_splitted|        hashtags_idx|\n",
      "+--------------------+--------------------+--------------------+\n",
      "|349472F2F74A475A0...|[349472F2F74A475A...|[20848, 38675, 21...|\n",
      "|2FCFA4566CBF1C1DB...|[2FCFA4566CBF1C1D...|[1206604, 1516246...|\n",
      "|CCA7C7232D8BC8177...|[CCA7C7232D8BC817...|               [752]|\n",
      "|CBC290422A3CCA26B...|[CBC290422A3CCA26...|            [330671]|\n",
      "|563F733233D158ED5...|[563F733233D158ED...|[71899, 229729, 6...|\n",
      "|EEF5D60A3A8DBF74B...|[EEF5D60A3A8DBF74...|             [98037]|\n",
      "|94E858B77C242683E...|[94E858B77C242683...|               [905]|\n",
      "|A338C5C1637BEDA84...|[A338C5C1637BEDA8...|                 [0]|\n",
      "|791E94CB06C33F419...|[791E94CB06C33F41...|               [477]|\n",
      "|0360E2682218E7DFA...|[0360E2682218E7DF...|             [16421]|\n",
      "|04F91F74D30DA8C84...|[04F91F74D30DA8C8...|          [425, 556]|\n",
      "|B2BC64B5DCB831D8B...|[B2BC64B5DCB831D8...|              [4021]|\n",
      "|D4269F8737DBFE7E5...|[D4269F8737DBFE7E...|              [2560]|\n",
      "|D4AD8E96FBA8ACABE...|[D4AD8E96FBA8ACAB...|[20404, 25799, 22...|\n",
      "|B4A1FDD9EB3512283...|[B4A1FDD9EB351228...|[7142, 330359, 23...|\n",
      "|9A2CC1B260183AFB0...|[9A2CC1B260183AFB...|             [19, 0]|\n",
      "|87E84B0045C917BD7...|[87E84B0045C917BD...|  [175, 34453, 4160]|\n",
      "|2411639E38B78C63C...|[2411639E38B78C63...|            [256629]|\n",
      "|41D72C70205949919...|[41D72C7020594991...|[8826, 9327, 9, 284]|\n",
      "|3AC97A92C0F2F1531...|[3AC97A92C0F2F153...|[127844, 864714, ...|\n",
      "+--------------------+--------------------+--------------------+\n",
      "only showing top 20 rows\n",
      "\n"
     ]
    }
   ],
   "source": [
    "dict_df = spark.read.parquet(\"/recsys2020_0608_categorify_example/recsys_dicts/hashtags\")\n",
    "gateway = spark.sparkContext._gateway\n",
    "categorify_broadcast_handler = gateway.jvm.org.apache.spark.sql.api.CategorifyBroadcast.broadcast(spark.sparkContext._jsc, dict_df._jdf)\n",
    "print(categorify_broadcast_handler)\n",
    "spark._jsparkSession.udf().register(\"CategorifyForArray\", gateway.jvm.org.apache.spark.sql.api.CategorifyForArray(categorify_broadcast_handler))\n",
    "df = spark.read.parquet(\"/recsys2021_0608_example/train_with_categorified_features_test\")\n",
    "df = df.select(\"hashtags\").filter(\"hashtags is not null\").withColumn(\"hashtags_splitted\", f.split(f.col(\"hashtags\"), '\\t'))\n",
    "print(df.dtypes)\n",
    "df = df.withColumn('hashtags_idx', f.expr(\"CategorifyForArray(hashtags_splitted)\"))\n",
    "print(df.dtypes)\n",
    "df.show()\n",
    "\n",
    "# ===============================================\n",
    "# decode tweet_tokens\n",
    "#df = process_data(df, proc, output_name=\"scala_udf_test\")"
   ]
  },
  {
   "cell_type": "markdown",
   "metadata": {},
   "source": [
    "### Example 2: Categorify"
   ]
  },
  {
   "cell_type": "code",
   "execution_count": 4,
   "metadata": {
    "scrolled": false
   },
   "outputs": [
    {
     "name": "stdout",
     "output_type": "stream",
     "text": [
      "Broadcast(18)\n",
      "[('mention', 'string')]\n",
      "[('mention', 'string'), ('mention_idx', 'int')]\n",
      "+-------------------------+-----------+\n",
      "|                  mention|mention_idx|\n",
      "+-------------------------+-----------+\n",
      "|            pedrojubierna|          7|\n",
      "|                   maddow|         22|\n",
      "|              smritiirani|         22|\n",
      "|                       mb|         22|\n",
      "|                     jcxx|          1|\n",
      "|              TomScibelli|         22|\n",
      "|            rottenheights|         14|\n",
      "|               Shemalesbr|         22|\n",
      "|                     capt|         22|\n",
      "|               villainnap|         22|\n",
      "|             ritsuitotaro|         19|\n",
      "|              jinjinpocha|         22|\n",
      "|              frajervenca|         21|\n",
      "|                mrjamesob|         22|\n",
      "|               JaimeRdzNL|         22|\n",
      "|CaramelCorn1971をフォロー|         22|\n",
      "|                  Soledad|         22|\n",
      "|          wiosnabiedronia|         22|\n",
      "|                ObviousIy|          2|\n",
      "|          ORDems'Portland|         13|\n",
      "+-------------------------+-----------+\n",
      "only showing top 20 rows\n",
      "\n"
     ]
    }
   ],
   "source": [
    "dict_df = spark.read.parquet(\"/recsys2021_0608_example/recsys_dicts/mention\")\n",
    "gateway = spark.sparkContext._gateway\n",
    "categorify_broadcast_handler = gateway.jvm.org.apache.spark.sql.api.CategorifyBroadcast.broadcast(spark.sparkContext._jsc, dict_df._jdf)\n",
    "print(categorify_broadcast_handler)\n",
    "\n",
    "spark._jsparkSession.udf().register(\"Categorify\", gateway.jvm.org.apache.spark.sql.api.Categorify(categorify_broadcast_handler))\n",
    "\n",
    "df = spark.read.parquet(\"/recsys2021_0608_example/train_with_categorified_features_test\")\n",
    "df = df.select(\"mention\").filter(f.col('mention') != \"\")\n",
    "print(df.dtypes)\n",
    "df = df.withColumn('mention_idx', f.expr(\"Categorify(mention)\"))\n",
    "print(df.dtypes)\n",
    "df.show()"
   ]
  },
  {
   "cell_type": "markdown",
   "metadata": {},
   "source": [
    "### Example 3: CodegenSeparator"
   ]
  },
  {
   "cell_type": "code",
   "execution_count": null,
   "metadata": {
    "scrolled": false
   },
   "outputs": [],
   "source": [
    "gateway = spark.sparkContext._gateway\n",
    "spark._jsparkSession.udf().register(\"CodegenSeparator\", gateway.jvm.org.apache.spark.sql.api.CodegenSeparator())\n",
    "spark._jsparkSession.udf().register(\"CodegenSeparator0\", gateway.jvm.org.apache.spark.sql.api.CodegenSeparator0())\n",
    "spark._jsparkSession.udf().register(\"CodegenSeparator1\", gateway.jvm.org.apache.spark.sql.api.CodegenSeparator1())\n",
    "spark._jsparkSession.udf().register(\"CodegenSeparator2\", gateway.jvm.org.apache.spark.sql.api.CodegenSeparator2())\n",
    "df = spark.read.parquet(path_prefix + original_folder)\n",
    "df = df.select(\"tweet_timestamp\")\n",
    "df = df.withColumn('tweet_timestamp', f.expr(\"CodegenSeparator2(tweet_timestamp)\"))\n",
    "print(df.dtypes)\n",
    "df.show()"
   ]
  },
  {
   "cell_type": "markdown",
   "metadata": {},
   "source": [
    "### Example 4: sortStringArrayByFrequency and sortIntegerArrayByFrequency"
   ]
  },
  {
   "cell_type": "code",
   "execution_count": null,
   "metadata": {
    "scrolled": false
   },
   "outputs": [],
   "source": [
    "# 1.1 prepare dataFrames\n",
    "# 1.2 create RecDP DataProcessor\n",
    "df = spark.read.parquet(path_prefix + original_folder)\n",
    "df = df.select(\"reply_timestamp\", 'tweet_id').groupby('tweet_id').agg(f.collect_list('reply_timestamp').alias('reply_timestamp'))\n",
    "df = df.withColumn('sorted_reply_timestamp', f.expr('sortStringArrayByFrequency(reply_timestamp)'))\n",
    "\n",
    "df.show()"
   ]
  }
 ],
 "metadata": {
  "kernelspec": {
   "display_name": "Python 3",
   "language": "python",
   "name": "python3"
  },
  "language_info": {
   "codemirror_mode": {
    "name": "ipython",
    "version": 3
   },
   "file_extension": ".py",
   "mimetype": "text/x-python",
   "name": "python",
   "nbconvert_exporter": "python",
   "pygments_lexer": "ipython3",
   "version": "3.7.4"
  }
 },
 "nbformat": 4,
 "nbformat_minor": 2
}
