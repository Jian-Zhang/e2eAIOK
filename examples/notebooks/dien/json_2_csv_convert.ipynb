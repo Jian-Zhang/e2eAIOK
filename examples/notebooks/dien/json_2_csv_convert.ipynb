{
 "cells": [
  {
   "cell_type": "code",
   "execution_count": 3,
   "metadata": {},
   "outputs": [
    {
     "name": "stdout",
     "output_type": "stream",
     "text": [
      "Convert initial csv from json took 827.646 secs\n"
     ]
    }
   ],
   "source": [
    "# Load original json as CSV\n",
    "import sys\n",
    "from timeit import default_timer as timer\n",
    "\n",
    "def process_meta(file):\n",
    "    fi = open(file, \"r\")\n",
    "    fo = open(\"item-info\", \"w\")\n",
    "    for line in fi:\n",
    "        obj = eval(line)\n",
    "        cat = obj[\"categories\"][0][-1]\n",
    "        print(obj[\"asin\"] + \"\\t\" + cat, file=fo)\n",
    "\n",
    "def process_reviews(file):\n",
    "    fi = open(file, \"r\")\n",
    "    user_map = {}\n",
    "    fo = open(\"reviews-info\", \"w\")\n",
    "    for line in fi:\n",
    "        obj = eval(line)\n",
    "        userID = obj[\"reviewerID\"]\n",
    "        itemID = obj[\"asin\"]\n",
    "        rating = obj[\"overall\"]\n",
    "        time = obj[\"unixReviewTime\"]\n",
    "        print(userID + \"\\t\" + itemID + \"\\t\" + str(rating) + \"\\t\" + str(time), file=fo)\n",
    "\n",
    "local_prefix = \"/mnt/nvme2/chendi/BlueWhale/dien/raw_data/\"\n",
    "t0 = timer()\n",
    "process_meta(local_prefix + 'meta_Books.json')\n",
    "process_reviews(local_prefix + 'reviews_Books.json')\n",
    "t1 = timer()\n",
    "\n",
    "print(\"Convert initial csv from json took %.3f secs\" % (t1 - t0))"
   ]
  }
 ],
 "metadata": {
  "kernelspec": {
   "display_name": "Python 3",
   "language": "python",
   "name": "python3"
  },
  "language_info": {
   "codemirror_mode": {
    "name": "ipython",
    "version": 3
   },
   "file_extension": ".py",
   "mimetype": "text/x-python",
   "name": "python",
   "nbconvert_exporter": "python",
   "pygments_lexer": "ipython3",
   "version": "3.7.4"
  }
 },
 "nbformat": 4,
 "nbformat_minor": 2
}
