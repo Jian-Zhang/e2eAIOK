{
 "cells": [
  {
   "cell_type": "code",
   "execution_count": null,
   "metadata": {},
   "outputs": [],
   "source": [
    "spark.stop()"
   ]
  },
  {
   "cell_type": "code",
   "execution_count": null,
   "metadata": {
    "scrolled": true
   },
   "outputs": [],
   "source": [
    "# Convert Json to CSV\n",
    "\n",
    "import findspark\n",
    "findspark.init()\n",
    "\n",
    "from pyspark.sql import SparkSession\n",
    "from pyspark.sql.types import *\n",
    "from pyspark.sql.functions import *\n",
    "from pyspark.sql.window import Window\n",
    "import numpy as np\n",
    "import pandas as pd\n",
    "from time import time\n",
    "from timeit import default_timer as timer\n",
    "import random\n",
    "import os.path\n",
    "import pickle\n",
    "import pandas\n",
    "\n",
    "dir_path = \"/mnt/nvme2/chendi/BlueWhale/x-deeplearning/xdl-algorithm-solution/DIEN/data/\"\n",
    "local_prefix = \"file://\" + dir_path\n",
    "\n",
    "t0 = timer()\n",
    "spark = SparkSession\\\n",
    "    .builder\\\n",
    "    .master('yarn')\\\n",
    "    .appName(\"DIEN_DATA_Comparor\") \\\n",
    "    .getOrCreate()\n",
    "\n",
    "# Enable Arrow-based columnar data transfers\n",
    "spark.conf.set(\"spark.sql.execution.arrow.pyspark.enabled\", \"true\")\n",
    "\n",
    "def load_csv(file_path, in_type = \"python\"):\n",
    "    label_field = StructField('label', IntegerType())\n",
    "    uid_field = StructField('uid', StringType())\n",
    "    asin_field = StructField('asin', StringType())\n",
    "    cat_field = StructField('category', StringType())\n",
    "    asin_list_field = StructField('asin_list', StringType())\n",
    "    cat_list_field = StructField('cast_list', StringType())\n",
    "    id_field = StructField('id', IntegerType())\n",
    "    \n",
    "    schema_1 = StructType([label_field, uid_field, asin_field, cat_field, asin_list_field, cat_list_field, id_field])\n",
    "    schema_2 = StructType([label_field, uid_field, asin_field, cat_field, asin_list_field, cat_list_field])\n",
    "    \n",
    "    if in_type == \"python\":\n",
    "        test = spark.read.schema(schema_2).option('sep', '\\t').csv(file_path + \"/local_test_splitByUser\") \n",
    "        train = spark.read.schema(schema_2).option('sep', '\\t').csv(file_path + \"/local_train_splitByUser\")\n",
    "        return test, train\n",
    "    else: \n",
    "        test = spark.read.schema(schema_1).option('sep', '\\t').csv(file_path + \"/local_test_splitByUser\") \n",
    "        train = spark.read.schema(schema_1).option('sep', '\\t').csv(file_path + \"/local_train_splitByUser\")\n",
    "        return test, train\n",
    "\n",
    "python_test, python_train = load_csv(local_prefix + \"python_output\")\n",
    "pyspark_test, pyspark_train = load_csv(local_prefix + \"pyspark_output\", in_type = \"pyspark\")\n",
    "\n",
    "python_output = python_test.union(python_train)\n",
    "pyspark_output = pyspark_test.union(pyspark_train)\n",
    "\n",
    "out = python_output\\\n",
    "        .join(pyspark_output, [python_output.uid == pyspark_output.uid, python_output.label == pyspark_output.label], 'left_outer')\\\n",
    "        .filter(python_output.asin != pyspark_output.asin)\\\n",
    "        .filter(python_output.label != 0)\n",
    "\n",
    "out.show(n=20, truncate=False, vertical=True)\n",
    "print(out.count())\n",
    "\n",
    "\n",
    "\n"
   ]
  },
  {
   "cell_type": "code",
   "execution_count": null,
   "metadata": {},
   "outputs": [],
   "source": [
    "aggregate_records = spark.read.parquet(local_prefix + \"/pyspark_output/aggregated_records\")\n",
    "aggregate_records.show()"
   ]
  },
  {
   "cell_type": "code",
   "execution_count": null,
   "metadata": {},
   "outputs": [],
   "source": [
    "spark.stop()"
   ]
  }
 ],
 "metadata": {
  "celltoolbar": "Raw Cell Format",
  "kernelspec": {
   "display_name": "Python 3",
   "language": "python",
   "name": "python3"
  },
  "language_info": {
   "codemirror_mode": {
    "name": "ipython",
    "version": 3
   },
   "file_extension": ".py",
   "mimetype": "text/x-python",
   "name": "python",
   "nbconvert_exporter": "python",
   "pygments_lexer": "ipython3",
   "version": "3.7.4"
  }
 },
 "nbformat": 4,
 "nbformat_minor": 2
}
