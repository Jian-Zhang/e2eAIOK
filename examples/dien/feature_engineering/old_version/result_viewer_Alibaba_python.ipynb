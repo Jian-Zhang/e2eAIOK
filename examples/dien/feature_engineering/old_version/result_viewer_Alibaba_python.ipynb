{
 "cells": [
  {
   "cell_type": "code",
   "execution_count": null,
   "metadata": {},
   "outputs": [],
   "source": [
    "import _pickle as pkl\n",
    "import csv\n",
    "import sys\n",
    "import pandas as pd\n",
    "import pandas\n",
    "import os\n",
    "\n",
    "def list_dir(path):\n",
    "    source_path_dict = {}\n",
    "    dirs = os.listdir(path)\n",
    "    for files in dirs:\n",
    "        try:\n",
    "            sub_dirs = os.listdir(path + \"/\" + files)\n",
    "            for file_name in sub_dirs:\n",
    "                if (file_name.endswith('parquet') or file_name.endswith('csv')):\n",
    "                    source_path_dict[files] = os.path.join(\n",
    "                        path, files, file_name)\n",
    "        except:\n",
    "            source_path_dict[files] = os.path.join(path, files)\n",
    "    return source_path_dict\n",
    "\n",
    "def load_df(filename):\n",
    "    if \"pkl\" in filename:\n",
    "        return pandas.read_pickle(filename)\n",
    "    else:\n",
    "        return pandas.read_csv(filename, sep='\\t', header=None)"
   ]
  },
  {
   "cell_type": "markdown",
   "metadata": {},
   "source": [
    "#### Expect: \n",
    "* item-info length:  2370585\n",
    "* reviews-info length:  22507155\n",
    "* total train and test length:  5963668"
   ]
  },
  {
   "cell_type": "code",
   "execution_count": null,
   "metadata": {},
   "outputs": [],
   "source": [
    "local_prefix = \"/mnt/nvme2/chendi/BlueWhale/x-deeplearning/xdl-algorithm-solution/DIEN/data/python_output\"\n",
    "source_path_dict = list_dir(local_prefix + '/')\n",
    "#print(source_path_dict)\n",
    "reviews_info = load_df(source_path_dict[\"reviews-info\"])\n",
    "item_info = load_df(source_path_dict[\"item-info\"])\n",
    "#\n",
    "\n",
    "cat_voc = load_df(source_path_dict[\"cat_voc.pkl\"])\n",
    "mid_voc = load_df(source_path_dict[\"mid_voc.pkl\"])\n",
    "uid_voc = load_df(source_path_dict[\"uid_voc.pkl\"])\n",
    "train = load_df(source_path_dict[\"local_train_splitByUser\"])\n",
    "test = load_df(source_path_dict[\"local_test_splitByUser\"])"
   ]
  },
  {
   "cell_type": "code",
   "execution_count": null,
   "metadata": {},
   "outputs": [],
   "source": [
    "train"
   ]
  },
  {
   "cell_type": "code",
   "execution_count": null,
   "metadata": {},
   "outputs": [],
   "source": [
    "local_prefix = \"/mnt/nvme2/chendi/BlueWhale/dien/\"\n",
    "\n",
    "source_path_dict = list_dir(local_prefix + '/data')\n",
    "cat_voc = load_df(source_path_dict[\"cat_voc.pkl\"])\n",
    "mid_voc = load_df(source_path_dict[\"mid_voc.pkl\"])\n",
    "uid_voc = load_df(source_path_dict[\"uid_voc.pkl\"])\n",
    "train = load_df(source_path_dict[\"local_train_splitByUser\"])\n",
    "test = load_df(source_path_dict[\"local_test_splitByUser\"])\n",
    "\n",
    "source_path_dict = list_dir(local_prefix + '/data1')\n",
    "reviews_info = load_df(source_path_dict[\"reviews-info\"])\n",
    "\n",
    "source_path_dict = list_dir(local_prefix + '/data2')\n",
    "reviews_info = load_df(source_path_dict[\"item-info\"])"
   ]
  },
  {
   "cell_type": "code",
   "execution_count": null,
   "metadata": {},
   "outputs": [],
   "source": [
    "train"
   ]
  }
 ],
 "metadata": {
  "kernelspec": {
   "display_name": "Python 3",
   "language": "python",
   "name": "python3"
  },
  "language_info": {
   "codemirror_mode": {
    "name": "ipython",
    "version": 3
   },
   "file_extension": ".py",
   "mimetype": "text/x-python",
   "name": "python",
   "nbconvert_exporter": "python",
   "pygments_lexer": "ipython3",
   "version": "3.7.4"
  }
 },
 "nbformat": 4,
 "nbformat_minor": 2
}
