{
 "cells": [
  {
   "cell_type": "code",
   "execution_count": 14,
   "metadata": {
    "scrolled": false
   },
   "outputs": [],
   "source": [
    "import os\n",
    "import sys\n",
    "import pandas\n",
    "import random\n",
    "from tensorflow.python.lib.io import file_io\n",
    "\n",
    "local_prefix = \"/mnt/nvme2/chendi/BlueWhale/x-deeplearning/xdl-algorithm-solution/DIEN/data/pyspark_output\"\n",
    "\n",
    "def list_dir(path):\n",
    "    source_path_dict = {}\n",
    "    dirs = os.listdir(path)\n",
    "    for files in dirs:\n",
    "        try:\n",
    "            sub_dirs = os.listdir(path + \"/\" + files)\n",
    "            for file_name in sub_dirs:\n",
    "                if (file_name.endswith('parquet') or file_name.endswith('csv')):\n",
    "                    source_path_dict[files] = os.path.join(\n",
    "                        path, files, file_name)\n",
    "        except:\n",
    "            source_path_dict[files] = os.path.join(path, files)\n",
    "    return source_path_dict\n"
   ]
  },
  {
   "cell_type": "markdown",
   "metadata": {},
   "source": [
    "#### Expected Shape:\n",
    "\n",
    "* total train and test length:  5963668"
   ]
  },
  {
   "cell_type": "code",
   "execution_count": 25,
   "metadata": {},
   "outputs": [],
   "source": [
    "source_path_dict = list_dir(local_prefix + '/dien/output/')\n",
    "# load files as arrow memory\n",
    "train = pandas.read_csv(source_path_dict[\"local_train_splitByUser\"], sep='\\t', header=None)\n",
    "test = pandas.read_csv(source_path_dict[\"local_test_splitByUser\"], sep='\\t', header=None)\n",
    "#lens_reader = pandas.read_parquet(source_path_dict['list_lens'])\n",
    "uid_voc = pandas.read_parquet(source_path_dict[\"uid_voc\"])\n",
    "mid_voc = pandas.read_parquet(source_path_dict[\"mid_voc\"])\n",
    "cat_voc = pandas.read_parquet(source_path_dict[\"cat_voc\"])"
   ]
  },
  {
   "cell_type": "code",
   "execution_count": 27,
   "metadata": {},
   "outputs": [
    {
     "data": {
      "text/html": [
       "<div>\n",
       "<style scoped>\n",
       "    .dataframe tbody tr th:only-of-type {\n",
       "        vertical-align: middle;\n",
       "    }\n",
       "\n",
       "    .dataframe tbody tr th {\n",
       "        vertical-align: top;\n",
       "    }\n",
       "\n",
       "    .dataframe thead th {\n",
       "        text-align: right;\n",
       "    }\n",
       "</style>\n",
       "<table border=\"1\" class=\"dataframe\">\n",
       "  <thead>\n",
       "    <tr style=\"text-align: right;\">\n",
       "      <th></th>\n",
       "      <th>0</th>\n",
       "      <th>1</th>\n",
       "      <th>2</th>\n",
       "      <th>3</th>\n",
       "      <th>4</th>\n",
       "      <th>5</th>\n",
       "      <th>6</th>\n",
       "    </tr>\n",
       "  </thead>\n",
       "  <tbody>\n",
       "    <tr>\n",
       "      <th>4561418</th>\n",
       "      <td>0</td>\n",
       "      <td>AZPJ9LUT0FEPY</td>\n",
       "      <td>B002Y3O8FE</td>\n",
       "      <td>Books</td>\n",
       "      <td>0062248391\u00020307744434\u00020470530707\u00020800731603\u00021590516400\u00020978924622</td>\n",
       "      <td>Books\u0002Books\u0002Books\u0002default_cat\u0002Books\u0002Books</td>\n",
       "      <td>1</td>\n",
       "    </tr>\n",
       "    <tr>\n",
       "      <th>4561419</th>\n",
       "      <td>1</td>\n",
       "      <td>AZPJ9LUT0FEPY</td>\n",
       "      <td>0806317884</td>\n",
       "      <td>Books</td>\n",
       "      <td>0062248391\u00020307744434\u00020470530707\u00020800731603\u00021590516400\u00020978924622</td>\n",
       "      <td>Books\u0002Books\u0002Books\u0002default_cat\u0002Books\u0002Books</td>\n",
       "      <td>2</td>\n",
       "    </tr>\n",
       "  </tbody>\n",
       "</table>\n",
       "</div>"
      ],
      "text/plain": [
       "         0              1           2      3  \\\n",
       "4561418  0  AZPJ9LUT0FEPY  B002Y3O8FE  Books   \n",
       "4561419  1  AZPJ9LUT0FEPY  0806317884  Books   \n",
       "\n",
       "                                                                         4  \\\n",
       "4561418  0062248391\u00020307744434\u00020470530707\u00020800731603\u00021590516400\u00020978924622   \n",
       "4561419  0062248391\u00020307744434\u00020470530707\u00020800731603\u00021590516400\u00020978924622   \n",
       "\n",
       "                                                 5  6  \n",
       "4561418  Books\u0002Books\u0002Books\u0002default_cat\u0002Books\u0002Books  1  \n",
       "4561419  Books\u0002Books\u0002Books\u0002default_cat\u0002Books\u0002Books  2  "
      ]
     },
     "execution_count": 27,
     "metadata": {},
     "output_type": "execute_result"
    }
   ],
   "source": [
    "#pandas.set_option('display.max_colwidth', 100)\n",
    "train[train[1]=='AZPJ9LUT0FEPY']"
   ]
  }
 ],
 "metadata": {
  "kernelspec": {
   "display_name": "Python 3",
   "language": "python",
   "name": "python3"
  },
  "language_info": {
   "codemirror_mode": {
    "name": "ipython",
    "version": 3
   },
   "file_extension": ".py",
   "mimetype": "text/x-python",
   "name": "python",
   "nbconvert_exporter": "python",
   "pygments_lexer": "ipython3",
   "version": "3.7.4"
  }
 },
 "nbformat": 4,
 "nbformat_minor": 2
}
