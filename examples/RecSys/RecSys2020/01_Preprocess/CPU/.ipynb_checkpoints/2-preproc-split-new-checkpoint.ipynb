{
 "cells": [
  {
   "cell_type": "markdown",
   "metadata": {},
   "source": [
    "Copyright (c) 2020, NVIDIA CORPORATION.\n",
    "Licensed under the Apache License, Version 2.0 (the \"License\");\n",
    "you may not use this file except in compliance with the License.\n",
    "You may obtain a copy of the License at\n",
    "    http://www.apache.org/licenses/LICENSE-2.0\n",
    "Unless required by applicable law or agreed to in writing, software\n",
    "distributed under the License is distributed on an \"AS IS\" BASIS,\n",
    "WITHOUT WARRANTIES OR CONDITIONS OF ANY KIND, either express or implied.\n",
    "See the License for the specific language governing permissions and\n",
    "limitations under the License."
   ]
  },
  {
   "cell_type": "markdown",
   "metadata": {},
   "source": [
    "### 1. Write to pickle and read again (can be optimized)\n",
    "### 2.  add three new columns, hash_tag, domain, link 's length\n",
    "### 3. caculate most freq domin, hashtag\n",
    "        but the data was not actually used?? \n",
    "### 4. split data and write to parquet "
   ]
  },
  {
   "cell_type": "code",
   "execution_count": 1,
   "metadata": {},
   "outputs": [],
   "source": [
    "import matplotlib.pyplot as plt\n",
    "%matplotlib inline  \n",
    "\n",
    "import pandas as pd\n",
    "import numpy as np\n",
    "import gc\n",
    "import time\n",
    "from datetime import datetime "
   ]
  },
  {
   "cell_type": "code",
   "execution_count": 2,
   "metadata": {},
   "outputs": [],
   "source": [
    "time_begin = datetime.now()"
   ]
  },
  {
   "cell_type": "code",
   "execution_count": 3,
   "metadata": {},
   "outputs": [
    {
     "name": "stdout",
     "output_type": "stream",
     "text": [
      "(116485680, 24)\n",
      "load pickle time 0:00:33.757276\n",
      "CPU times: user 18.9 s, sys: 14.8 s, total: 33.7 s\n",
      "Wall time: 33.8 s\n"
     ]
    }
   ],
   "source": [
    "%%time\n",
    "#Reload the output of previous notebook\n",
    "\n",
    "time_read_begin = datetime.now()\n",
    "\n",
    "df = pd.read_pickle('/mnt/DP_disk3/Recsys/tmp.pkl')\n",
    "print( df.shape )\n",
    "print(\"load pickle time\", datetime.now() - time_read_begin)\n"
   ]
  },
  {
   "cell_type": "code",
   "execution_count": null,
   "metadata": {},
   "outputs": [],
   "source": [
    "%%time\n",
    "df.head()"
   ]
  },
  {
   "cell_type": "code",
   "execution_count": 4,
   "metadata": {},
   "outputs": [
    {
     "name": "stdout",
     "output_type": "stream",
     "text": [
      "CPU times: user 3min 33s, sys: 13 s, total: 3min 46s\n",
      "Wall time: 3min 22s\n"
     ]
    }
   ],
   "source": [
    "%%time\n",
    "\n",
    "df['len_hashtags'] = df['hashtags'].apply(lambda x: str(x).count('\\t')+1 if not(pd.isnull(x)) else 0)\n",
    "df['len_domains']  = df['domains'].apply(lambda x: str(x).count('\\t')+1 if not(pd.isnull(x)) else 0)\n",
    "df['len_links']    = df['links'].apply(lambda x: str(x).count('\\t')+1 if not(pd.isnull(x)) else 0)"
   ]
  },
  {
   "cell_type": "code",
   "execution_count": 5,
   "metadata": {},
   "outputs": [
    {
     "name": "stdout",
     "output_type": "stream",
     "text": [
      "CPU times: user 25.5 s, sys: 3.83 s, total: 29.4 s\n",
      "Wall time: 10.9 s\n"
     ]
    },
    {
     "data": {
      "text/plain": [
       "array(['DBB05735DF475AB5DABEE791299AE3D1', '', '', '', '', '',\n",
       "       '215887F9F98736B07C823045CA9FA2EB',\n",
       "       '3330516EAADFD093A1C7B9DA83172DEB', '', ''], dtype=object)"
      ]
     },
     "execution_count": 5,
     "metadata": {},
     "output_type": "execute_result"
    }
   ],
   "source": [
    "%%time\n",
    "## Caculate count of each domain[x]，key is domain value, value is count \n",
    "var = df['domains'].fillna('').values.copy()\n",
    "gc.collect()\n",
    "var[:10]"
   ]
  },
  {
   "cell_type": "code",
   "execution_count": 6,
   "metadata": {},
   "outputs": [
    {
     "name": "stdout",
     "output_type": "stream",
     "text": [
      "CPU times: user 33.2 s, sys: 319 ms, total: 33.5 s\n",
      "Wall time: 33.6 s\n"
     ]
    },
    {
     "data": {
      "text/plain": [
       "373477"
      ]
     },
     "execution_count": 6,
     "metadata": {},
     "output_type": "execute_result"
    }
   ],
   "source": [
    "%%time\n",
    "\n",
    "PD = {}\n",
    "null = var[1]\n",
    "PD[null] = [0,0]\n",
    "count = 1\n",
    "for vs in var:\n",
    "    if vs != null:  #null if var[0]\n",
    "        for v in vs.split('\\t'):\n",
    "            if v not in PD:\n",
    "                PD[v] = [count,1]\n",
    "                count +=1\n",
    "            else:\n",
    "                x = PD[v]\n",
    "                x[1] += 1\n",
    "                PD[v] = x\n",
    "    else:\n",
    "        x = PD[null]\n",
    "        x[1] += 1\n",
    "        PD[null] = x\n",
    "        \n",
    "len(PD),list(PD.items())[:10]"
   ]
  },
  {
   "cell_type": "code",
   "execution_count": 10,
   "metadata": {},
   "outputs": [
    {
     "data": {
      "text/plain": [
       "[('', [0, 97114874]),\n",
       " ('DBB05735DF475AB5DABEE791299AE3D1', [1, 5279]),\n",
       " ('215887F9F98736B07C823045CA9FA2EB', [2, 924]),\n",
       " ('3330516EAADFD093A1C7B9DA83172DEB', [3, 5150]),\n",
       " ('8A67C9075AF148F8C410E56DC9E6BA2C', [4, 10532]),\n",
       " ('66102A1F11120AAAF8326BDE7FB49876', [5, 187]),\n",
       " ('9BCB16BA9CDF7220A9637D36E604531D', [6, 122]),\n",
       " ('E91CDEC8DC7ABF30592FA024616FF970', [7, 1166115]),\n",
       " ('FECA6F2E8244F2294BD2CE957C0602A9', [8, 780567]),\n",
       " ('C2D098DE579714E1F2F0A59AB8D05856', [9, 1969])]"
      ]
     },
     "execution_count": 10,
     "metadata": {},
     "output_type": "execute_result"
    }
   ],
   "source": []
  },
  {
   "cell_type": "code",
   "execution_count": 11,
   "metadata": {},
   "outputs": [
    {
     "name": "stdout",
     "output_type": "stream",
     "text": [
      "CPU times: user 4min 3s, sys: 17.4 s, total: 4min 20s\n",
      "Wall time: 4min 20s\n"
     ]
    },
    {
     "data": {
      "text/plain": [
       "(116485680, [[1], [0], [0], [0], [0], [0], [2], [3], [0], [0]])"
      ]
     },
     "execution_count": 11,
     "metadata": {},
     "output_type": "execute_result"
    }
   ],
   "source": [
    "%%time\n",
    "vari = []\n",
    "for vs in var:\n",
    "    if vs != null:\n",
    "        li=[]\n",
    "        lf=[]\n",
    "        for v in vs.split('\\t'):\n",
    "            if v!='':\n",
    "                li.append(PD[v][0])\n",
    "                lf.append(-PD[v][1])\n",
    "        vari.append( list(np.array(li)[np.argsort(lf)].astype(np.int32) ) )\n",
    "    else:\n",
    "        vari.append( [0] )\n",
    "del PD\n",
    "gc.collect()\n",
    "\n",
    "len(vari), vari[:10]"
   ]
  },
  {
   "cell_type": "code",
   "execution_count": 32,
   "metadata": {},
   "outputs": [
    {
     "data": {
      "text/plain": [
       "0"
      ]
     },
     "execution_count": 32,
     "metadata": {},
     "output_type": "execute_result"
    }
   ],
   "source": [
    "%%time\n",
    "#Get only the most frequent domain\n",
    "df['domains'] = np.array( [v[0] for v in vari ] ).astype( np.int32 )\n",
    "gc.collect()\n",
    "del vari, var\n",
    "gc.collect()"
   ]
  },
  {
   "cell_type": "code",
   "execution_count": null,
   "metadata": {},
   "outputs": [],
   "source": [
    "%%time\n",
    "var = df['links'].fillna('').values.copy()\n",
    "gc.collect()\n",
    "\n",
    "PD = {}\n",
    "null = var[1]\n",
    "PD[null] = [0,0]\n",
    "count = 1\n",
    "for vs in var:\n",
    "    if vs != null: ## null = var[0] \n",
    "        for v in vs.split('\\t'):\n",
    "            if v not in PD:\n",
    "                PD[v] = [count,1]\n",
    "                count +=1\n",
    "            else:\n",
    "                x = PD[v]\n",
    "                x[1] += 1\n",
    "                PD[v] = x\n",
    "    else:\n",
    "        x = PD[null]\n",
    "        x[1] += 1\n",
    "        PD[null] = x\n",
    "        \n",
    "len(PD),list(PD.items())[:10]"
   ]
  },
  {
   "cell_type": "code",
   "execution_count": null,
   "metadata": {},
   "outputs": [],
   "source": [
    "\n",
    "%%time\n",
    "vari = []\n",
    "for vs in var:\n",
    "    if vs != null:\n",
    "        li=[]\n",
    "        lf=[]\n",
    "        for v in vs.split('\\t'):\n",
    "            if v!='':\n",
    "                li.append(PD[v][0])\n",
    "                lf.append(-PD[v][1])\n",
    "        vari.append( list(np.array(li)[np.argsort(lf)].astype(np.int32) ) )\n",
    "    else:\n",
    "        vari.append( [0] )\n",
    "del PD\n",
    "gc.collect()\n",
    "\n",
    "len(vari), vari[:10]"
   ]
  },
  {
   "cell_type": "code",
   "execution_count": null,
   "metadata": {},
   "outputs": [],
   "source": [
    "%%time\n",
    "#Get only the most frequent link\n",
    "df['links'] = np.array( [v[0] for v in vari ] ).astype( np.int32 )\n",
    "gc.collect()\n",
    "del vari, var\n",
    "gc.collect()"
   ]
  },
  {
   "cell_type": "code",
   "execution_count": null,
   "metadata": {},
   "outputs": [],
   "source": [
    "%%time\n",
    "var = df['hashtags'].fillna('').values.copy()\n",
    "gc.collect()\n",
    "\n",
    "PD = {}\n",
    "null = var[1]\n",
    "PD[null] = [0,0]\n",
    "count = 1\n",
    "for vs in var:\n",
    "    if vs != null:\n",
    "        for v in vs.split('\\t'):\n",
    "            if v not in PD:\n",
    "                PD[v] = [count,1]\n",
    "                count +=1\n",
    "            else:\n",
    "                x = PD[v]\n",
    "                x[1] += 1\n",
    "                PD[v] = x\n",
    "    else:\n",
    "        x = PD[null]\n",
    "        x[1] += 1\n",
    "        PD[null] = x\n",
    "        \n",
    "len(PD),list(PD.items())[:10]"
   ]
  },
  {
   "cell_type": "code",
   "execution_count": null,
   "metadata": {},
   "outputs": [],
   "source": [
    "df.tail(10)['hashtags']"
   ]
  },
  {
   "cell_type": "code",
   "execution_count": null,
   "metadata": {},
   "outputs": [],
   "source": [
    "%%time\n",
    "vari = []\n",
    "for vs in var:\n",
    "    if vs != null:\n",
    "        li=[]\n",
    "        lf=[]\n",
    "        for v in vs.split('\\t'):\n",
    "            if v!='':\n",
    "                li.append(PD[v][0])\n",
    "                lf.append(-PD[v][1])\n",
    "        vari.append( list(np.array(li)[np.argsort(lf)].astype(np.int32) ) )\n",
    "    else:\n",
    "        vari.append( [0] )\n",
    "del PD\n",
    "gc.collect()\n",
    "\n",
    "len(vari), vari[:10]"
   ]
  },
  {
   "cell_type": "code",
   "execution_count": null,
   "metadata": {},
   "outputs": [],
   "source": [
    "%%time\n",
    "#Get only the most frequent hashtag\n",
    "df['hashtags'] = np.array( [v[0] for v in vari ] ).astype( np.int32 )\n",
    "gc.collect()\n",
    "del vari, var\n",
    "gc.collect()"
   ]
  },
  {
   "cell_type": "code",
   "execution_count": null,
   "metadata": {
    "scrolled": true
   },
   "outputs": [],
   "source": [
    "df.tail(40)"
   ]
  },
  {
   "cell_type": "code",
   "execution_count": null,
   "metadata": {},
   "outputs": [],
   "source": [
    "df.dtypes"
   ]
  },
  {
   "cell_type": "code",
   "execution_count": null,
   "metadata": {},
   "outputs": [],
   "source": [
    "# old value based on old data, changed to next cell. \n",
    "#train = df.iloc[ :121386431 ].copy()\n",
    "#test0 = df.iloc[ 121386431:(121386431+12434735) ].copy()\n",
    "#test1 = df.iloc[ (121386431+12434735): ].copy()\n",
    "\n",
    "# train.shape, test0.shape, test1.shape"
   ]
  },
  {
   "cell_type": "code",
   "execution_count": null,
   "metadata": {},
   "outputs": [],
   "source": [
    "%%time\n",
    "## train, test, val data shape \n",
    "\n",
    "train = df.iloc[ :96600391 ].copy()\n",
    "test0 = df.iloc[ 96600391:(96600391+9943301 ) ].copy()\n",
    "test1 = df.iloc[ (96600391+9943301 ): ].copy()\n",
    "\n",
    "train.shape, test0.shape, test1.shape"
   ]
  },
  {
   "cell_type": "code",
   "execution_count": null,
   "metadata": {},
   "outputs": [],
   "source": [
    "%%time\n",
    "train.to_parquet( '/mnt/DP_disk3/Recsys/train-1.parquet' )\n",
    "test0.to_parquet( '/mnt/DP_disk3/Recsys/test-0.parquet' )\n",
    "test1.to_parquet( '/mnt/DP_disk3/Recsys/test-1.parquet' )\n",
    "gc.collect()"
   ]
  },
  {
   "cell_type": "code",
   "execution_count": null,
   "metadata": {},
   "outputs": [],
   "source": [
    "time_end = datetime.now()\n",
    "\n",
    "print(\"2nd notebook total process time\", time_end - time_begin)"
   ]
  }
 ],
 "metadata": {
  "kernelspec": {
   "display_name": "Python 3",
   "language": "python",
   "name": "python3"
  },
  "language_info": {
   "codemirror_mode": {
    "name": "ipython",
    "version": 3
   },
   "file_extension": ".py",
   "mimetype": "text/x-python",
   "name": "python",
   "nbconvert_exporter": "python",
   "pygments_lexer": "ipython3",
   "version": "3.7.4"
  }
 },
 "nbformat": 4,
 "nbformat_minor": 4
}
